{
 "cells": [
  {
   "cell_type": "markdown",
   "metadata": {},
   "source": [
    "# GloVe + LSTM Model"
   ]
  },
  {
   "cell_type": "code",
   "execution_count": 66,
   "metadata": {
    "id": "oimRYkmt8wzN"
   },
   "outputs": [],
   "source": [
    "#import data processing libraries\n",
    "import numpy as np\n",
    "from scipy import spatial\n",
    "import matplotlib.pyplot as plt\n",
    "from sklearn.manifold import TSNE\n",
    "\n",
    "def plot_accuracy_loss(history):\n",
    "    # summarize history for accuracy\n",
    "    plt.plot(history.history['accuracy'])\n",
    "    plt.plot(history.history['val_accuracy'])\n",
    "    plt.title('model accuracy')\n",
    "    plt.ylabel('accuracy')\n",
    "    plt.xlabel('epoch')\n",
    "    plt.legend(['train', 'test'], loc='upper left')\n",
    "    plt.show()\n",
    "    # summarize history for loss\n",
    "    plt.plot(history.history['loss'])\n",
    "    plt.plot(history.history['val_loss'])\n",
    "    plt.title('model loss')\n",
    "    plt.ylabel('loss')\n",
    "    plt.xlabel('epoch')\n",
    "    plt.legend(['train', 'test'], loc='upper left')\n",
    "    plt.show()"
   ]
  },
  {
   "cell_type": "code",
   "execution_count": 54,
   "metadata": {
    "id": "Y5rD55uj33iq"
   },
   "outputs": [],
   "source": [
    "#load glove embedding\n",
    "embeddings_dict = {}\n",
    "\n",
    "with open('glove.6B/glove.6B.50d.txt', 'r', encoding=\"utf8\") as f:\n",
    "    for line in f:\n",
    "        values = line.split()\n",
    "        word = values[0]\n",
    "        vector = np.asarray(values[1:], \"float32\")\n",
    "        embeddings_dict[word] = vector"
   ]
  },
  {
   "cell_type": "code",
   "execution_count": 53,
   "metadata": {},
   "outputs": [
    {
     "name": "stderr",
     "output_type": "stream",
     "text": [
      "[nltk_data] Downloading package punkt to /Users/aszeto1/nltk_data...\n",
      "[nltk_data]   Package punkt is already up-to-date!\n",
      "[nltk_data] Downloading package stopwords to\n",
      "[nltk_data]     /Users/aszeto1/nltk_data...\n",
      "[nltk_data]   Package stopwords is already up-to-date!\n"
     ]
    }
   ],
   "source": [
    "#import nltk and clean the corpus\n",
    "import string\n",
    "from nltk.tokenize import word_tokenize\n",
    "from nltk.corpus import stopwords\n",
    "import nltk \n",
    "\n",
    "nltk.download('punkt')\n",
    "nltk.download('stopwords')\n",
    "\n",
    "def text_normalization(lines):\n",
    "    sentences = list()\n",
    "    for line in lines:   \n",
    "        tokens = word_tokenize(line)\n",
    "        # convert to lower case\n",
    "        tokens = [w.lower() for w in tokens]\n",
    "        # remove punctuation from each word    \n",
    "        table = str.maketrans('', '', string.punctuation)\n",
    "        stripped = [w.translate(table) for w in tokens]\n",
    "        # remove remaining tokens that are not alphabetic\n",
    "        words = [word for word in stripped if word.isalpha()]\n",
    "        # filter out stop words    \n",
    "        stop_words = set(stopwords.words('english'))\n",
    "        words = [w for w in words if not w in stop_words]\n",
    "        sentences.append(words)\n",
    "    return sentences"
   ]
  },
  {
   "cell_type": "code",
   "execution_count": 128,
   "metadata": {},
   "outputs": [],
   "source": [
    "from keras_preprocessing.text import Tokenizer\n",
    "from keras_preprocessing.sequence import pad_sequences\n",
    "\n",
    "MAX_LENGTH = 100\n",
    "\n",
    "def vectorize_text(sentences, max_length=MAX_LENGTH):\n",
    "    # vectorize the text samples into a 2D integer tensor\n",
    "    tokenizer_obj = Tokenizer() \n",
    "    tokenizer_obj.fit_on_texts(sentences)\n",
    "    sequences = tokenizer_obj.texts_to_sequences(sentences)\n",
    "\n",
    "    # pad sequences\n",
    "    word_index = tokenizer_obj.word_index\n",
    "    print('Found %s unique tokens.' % len(word_index))\n",
    "    padded_sequences = pad_sequences(sequences, maxlen=max_length)\n",
    "    return padded_sequences, word_index"
   ]
  },
  {
   "cell_type": "code",
   "execution_count": 72,
   "metadata": {},
   "outputs": [],
   "source": [
    "VALIDATION_SPLIT = 0.20\n",
    "\n",
    "def split_data(padded_sequences, labels, validation_split=VALIDATION_SPLIT):\n",
    "    # split the data into a training set and a validation set\n",
    "    indices = np.arange(padded_sequences.shape[0])\n",
    "    np.random.shuffle(indices)\n",
    "    padded_sequences = padded_sequences[indices]\n",
    "    labels = labels[indices]\n",
    "    num_validation_samples = int(validation_split * padded_sequences.shape[0])\n",
    "\n",
    "    X_train_pad = padded_sequences[:-num_validation_samples]\n",
    "    y_train = labels[:-num_validation_samples]\n",
    "    X_test_pad = padded_sequences[-num_validation_samples:]\n",
    "    y_test = labels[-num_validation_samples:]\n",
    "    \n",
    "    return X_train_pad, y_train, X_test_pad, y_test"
   ]
  },
  {
   "cell_type": "code",
   "execution_count": 144,
   "metadata": {},
   "outputs": [],
   "source": [
    "#set up embedding matrix\n",
    "EMBEDDING_DIM =50\n",
    "\n",
    "def get_embedding_matrix(word_index, embedding_dim=EMBEDDING_DIM):\n",
    "    num_words = len(word_index) + 1\n",
    "    embedding_matrix = np.zeros((num_words, embedding_dim))\n",
    "\n",
    "    for word, i in word_index.items():\n",
    "        if i > num_words:\n",
    "            continue\n",
    "        embedding_vector = embeddings_dict.get(word)\n",
    "\n",
    "        if embedding_vector is not None:\n",
    "            # words not found in embedding index will be all-zeros.\n",
    "            embedding_matrix[i] = embedding_vector\n",
    "    return embedding_matrix, num_words"
   ]
  },
  {
   "cell_type": "code",
   "execution_count": 172,
   "metadata": {},
   "outputs": [],
   "source": [
    "from keras.models import Sequential\n",
    "from keras.layers import Dense, Embedding, LSTM, GRU\n",
    "from tensorflow.keras.layers import Embedding\n",
    "from keras.initializers import Constant\n",
    "\n",
    "def train(num_words, embedding_matrix, data, num_outputs, batch_size, epochs, embedding_dim=EMBEDDING_DIM, max_length=MAX_LENGTH, callbacks=[]):\n",
    "    # define model\n",
    "    model = Sequential()\n",
    "    embedding_layer = Embedding(num_words,\n",
    "                                embedding_dim,\n",
    "                                embeddings_initializer=Constant(embedding_matrix),\n",
    "                                input_length=max_length,\n",
    "                                trainable=False)\n",
    "    model.add(embedding_layer)\n",
    "    model.add(LSTM(units=32,  dropout=0.2, recurrent_dropout=0.2))\n",
    "    model.add(Dense(num_outputs, activation='softmax'))\n",
    "\n",
    "    # try using different optimizers and different optimizer configs\n",
    "    model.compile(loss='categorical_crossentropy', optimizer='adam', metrics=['accuracy'])\n",
    "\n",
    "    print('Summary of the built model...')\n",
    "    print(model.summary())\n",
    "\n",
    "    # fit the model\n",
    "    X_train_pad, y_train, X_test_pad, y_test = data\n",
    "    history = model.fit(X_train_pad, y_train, batch_size=batch_size, epochs=epochs, validation_data=(X_test_pad, y_test), callbacks=callbacks, verbose=2)\n",
    "    \n",
    "    return model, history\n"
   ]
  },
  {
   "cell_type": "markdown",
   "metadata": {},
   "source": [
    "# Urgency Dataset"
   ]
  },
  {
   "cell_type": "code",
   "execution_count": 125,
   "metadata": {
    "id": "Z4nKECq8K2dE"
   },
   "outputs": [
    {
     "data": {
      "text/html": [
       "<div>\n",
       "<style scoped>\n",
       "    .dataframe tbody tr th:only-of-type {\n",
       "        vertical-align: middle;\n",
       "    }\n",
       "\n",
       "    .dataframe tbody tr th {\n",
       "        vertical-align: top;\n",
       "    }\n",
       "\n",
       "    .dataframe thead th {\n",
       "        text-align: right;\n",
       "    }\n",
       "</style>\n",
       "<table border=\"1\" class=\"dataframe\">\n",
       "  <thead>\n",
       "    <tr style=\"text-align: right;\">\n",
       "      <th></th>\n",
       "      <th>Sentence</th>\n",
       "      <th>critical</th>\n",
       "      <th>info</th>\n",
       "      <th>warning</th>\n",
       "    </tr>\n",
       "  </thead>\n",
       "  <tbody>\n",
       "    <tr>\n",
       "      <th>0</th>\n",
       "      <td>As of today 60 people went missing on the park</td>\n",
       "      <td>1</td>\n",
       "      <td>0</td>\n",
       "      <td>0</td>\n",
       "    </tr>\n",
       "    <tr>\n",
       "      <th>1</th>\n",
       "      <td>The biker was injured on the street and now is...</td>\n",
       "      <td>1</td>\n",
       "      <td>0</td>\n",
       "      <td>0</td>\n",
       "    </tr>\n",
       "    <tr>\n",
       "      <th>2</th>\n",
       "      <td>The president has been kidnapped by terrorists</td>\n",
       "      <td>1</td>\n",
       "      <td>0</td>\n",
       "      <td>0</td>\n",
       "    </tr>\n",
       "    <tr>\n",
       "      <th>3</th>\n",
       "      <td>People in Louisiana are in dire need of food a...</td>\n",
       "      <td>1</td>\n",
       "      <td>0</td>\n",
       "      <td>0</td>\n",
       "    </tr>\n",
       "    <tr>\n",
       "      <th>4</th>\n",
       "      <td>Five cars were hit and are now stranded beneat...</td>\n",
       "      <td>1</td>\n",
       "      <td>0</td>\n",
       "      <td>0</td>\n",
       "    </tr>\n",
       "  </tbody>\n",
       "</table>\n",
       "</div>"
      ],
      "text/plain": [
       "                                            Sentence  critical  info  warning\n",
       "0     As of today 60 people went missing on the park         1     0        0\n",
       "1  The biker was injured on the street and now is...         1     0        0\n",
       "2    The president has been kidnapped by terrorists          1     0        0\n",
       "3  People in Louisiana are in dire need of food a...         1     0        0\n",
       "4  Five cars were hit and are now stranded beneat...         1     0        0"
      ]
     },
     "execution_count": 125,
     "metadata": {},
     "output_type": "execute_result"
    }
   ],
   "source": [
    "import pandas as pd\n",
    "\n",
    "urgency_df = pd.read_csv(\"../UrgencySentenceSamples.csv\", encoding=\"utf-8\") \n",
    "ohe = pd.get_dummies(urgency_df[\"Label\"])\n",
    "urgency_df = pd.concat([urgency_df[\"Sentence\"], ohe], axis=1)\n",
    "urgency_df.head(5)"
   ]
  },
  {
   "cell_type": "code",
   "execution_count": 155,
   "metadata": {
    "colab": {
     "base_uri": "https://localhost:8080/"
    },
    "executionInfo": {
     "elapsed": 1957,
     "status": "ok",
     "timestamp": 1614208462469,
     "user": {
      "displayName": "Andres Carranza",
      "photoUrl": "https://lh3.googleusercontent.com/-y8omq7S5a60/AAAAAAAAAAI/AAAAAAAAUsM/VVDMmS9z1iA/s64/photo.jpg",
      "userId": "05882358103446048836"
     },
     "user_tz": 300
    },
    "id": "XIczd4TSUlb8",
    "outputId": "bdb305dd-b3e4-4fbb-83ec-c94ddb189dbf"
   },
   "outputs": [
    {
     "name": "stdout",
     "output_type": "stream",
     "text": [
      "Found 157 unique tokens.\n",
      "Shape of review tensor: (44, 100)\n",
      "Shape of urgency tensor: (44, 3)\n"
     ]
    },
    {
     "data": {
      "text/plain": [
       "array([ 0,  0,  0,  0,  0,  0,  0,  0,  0,  0,  0,  0,  0,  0,  0,  0,  0,\n",
       "        0,  0,  0,  0,  0,  0,  0,  0,  0,  0,  0,  0,  0,  0,  0,  0,  0,\n",
       "        0,  0,  0,  0,  0,  0,  0,  0,  0,  0,  0,  0,  0,  0,  0,  0,  0,\n",
       "        0,  0,  0,  0,  0,  0,  0,  0,  0,  0,  0,  0,  0,  0,  0,  0,  0,\n",
       "        0,  0,  0,  0,  0,  0,  0,  0,  0,  0,  0,  0,  0,  0,  0,  0,  0,\n",
       "        0,  0,  0,  0,  0,  0,  0,  0,  0,  0, 88, 89, 90, 91, 13],\n",
       "      dtype=int32)"
      ]
     },
     "execution_count": 155,
     "metadata": {},
     "output_type": "execute_result"
    }
   ],
   "source": [
    "urgency_lines = urgency_df['Sentence'].values.tolist()\n",
    "urgency_sentences = text_normalization(urgency_lines)\n",
    "\n",
    "urgency_sentences, urgency_word_index = vectorize_text(urgency_sentences)\n",
    "urgency_labels = np.array((urgency_df['critical'].values, urgency_df['warning'].values, urgency_df['info'].values)).T\n",
    "print('Shape of sentences tensor:', urgency_sentences.shape)\n",
    "print('Shape of labels tensor:', urgency_labels.shape)\n",
    "\n",
    "urgency_data = split_data(urgency_sentences, urgency_labels, validation_split=0.1)\n",
    "\n",
    "urgency_embedding_matrix, urgency_num_words = get_embedding_matrix(urgency_word_index)\n",
    "\n",
    "urgency_data[0][0]"
   ]
  },
  {
   "cell_type": "code",
   "execution_count": null,
   "metadata": {
    "colab": {
     "base_uri": "https://localhost:8080/"
    },
    "executionInfo": {
     "elapsed": 50423,
     "status": "ok",
     "timestamp": 1614208783754,
     "user": {
      "displayName": "Andres Carranza",
      "photoUrl": "https://lh3.googleusercontent.com/-y8omq7S5a60/AAAAAAAAAAI/AAAAAAAAUsM/VVDMmS9z1iA/s64/photo.jpg",
      "userId": "05882358103446048836"
     },
     "user_tz": 300
    },
    "id": "mikBlJADTed_",
    "outputId": "bf9fbbdf-8f89-4324-9822-82276b8a2fdc"
   },
   "outputs": [],
   "source": [
    "# Train the model\n",
    "urgency_model, urgency_history = train(urgency_num_words, urgency_embedding_matrix, urgency_data, num_outputs=3, batch_size=10, epochs=25)\n"
   ]
  },
  {
   "cell_type": "code",
   "execution_count": 11,
   "metadata": {
    "colab": {
     "base_uri": "https://localhost:8080/",
     "height": 136
    },
    "executionInfo": {
     "elapsed": 51645,
     "status": "ok",
     "timestamp": 1614208787538,
     "user": {
      "displayName": "Andres Carranza",
      "photoUrl": "https://lh3.googleusercontent.com/-y8omq7S5a60/AAAAAAAAAAI/AAAAAAAAUsM/VVDMmS9z1iA/s64/photo.jpg",
      "userId": "05882358103446048836"
     },
     "user_tz": 300
    },
    "id": "6yADOJGHbuBd",
    "outputId": "177bcc3b-230a-4406-e70a-1bdf3344df38"
   },
   "outputs": [
    {
     "name": "stdout",
     "output_type": "stream",
     "text": [
      "INFO:tensorflow:Assets written to: model/assets\n"
     ]
    }
   ],
   "source": [
    "#save model into remote filesystem\n",
    "urgency_model.save('urgency_model')"
   ]
  },
  {
   "cell_type": "code",
   "execution_count": 158,
   "metadata": {
    "colab": {
     "base_uri": "https://localhost:8080/",
     "height": 573
    },
    "executionInfo": {
     "elapsed": 1012,
     "status": "ok",
     "timestamp": 1614208788573,
     "user": {
      "displayName": "Andres Carranza",
      "photoUrl": "https://lh3.googleusercontent.com/-y8omq7S5a60/AAAAAAAAAAI/AAAAAAAAUsM/VVDMmS9z1iA/s64/photo.jpg",
      "userId": "05882358103446048836"
     },
     "user_tz": 300
    },
    "id": "elA2CEfhh-k0",
    "outputId": "92711819-e29e-496b-ecac-43cbfcae9c65"
   },
   "outputs": [
    {
     "data": {
      "image/png": "[encoded data removed]",
      "text/plain": [
       "<Figure size 640x480 with 1 Axes>"
      ]
     },
     "metadata": {},
     "output_type": "display_data"
    },
    {
     "data": {
      "image/png": "[encoded data removed]",
      "text/plain": [
       "<Figure size 640x480 with 1 Axes>"
      ]
     },
     "metadata": {},
     "output_type": "display_data"
    }
   ],
   "source": [
    "plot_accuracy_loss(urgency_history)"
   ]
  },
  {
   "cell_type": "code",
   "execution_count": null,
   "metadata": {
    "colab": {
     "base_uri": "https://localhost:8080/"
    },
    "executionInfo": {
     "elapsed": 422,
     "status": "ok",
     "timestamp": 1614208862483,
     "user": {
      "displayName": "Andres Carranza",
      "photoUrl": "https://lh3.googleusercontent.com/-y8omq7S5a60/AAAAAAAAAAI/AAAAAAAAUsM/VVDMmS9z1iA/s64/photo.jpg",
      "userId": "05882358103446048836"
     },
     "user_tz": 300
    },
    "id": "0kFUQmRcftRH",
    "outputId": "59bc1f78-58b5-4f99-8527-2af6fcbab9dc"
   },
   "outputs": [],
   "source": [
    "tests = [\"I need to buy a bike very soon\", \"I am in critical danger or starving to death\", \"My brother is named Jeremy\"]\n",
    "\n",
    "for test in tests:\n",
    "    sentences = text_normalization([test])\n",
    "    review_pad = vectorize_text(sentences[0])\n",
    "\n",
    "    encoding = [\"critical\", \"warning\", \"info\"]\n",
    "    probabilities = model.predict(review_pad)\n",
    "    prediction = np.argmax(probabilities)\n",
    "\n",
    "    print('Sentence being analyzed by the model: ', test)\n",
    "    print(f'Prediction: {encoding[prediction]} with probability {probabilities[0][prediction] * 100}%')"
   ]
  },
  {
   "cell_type": "markdown",
   "metadata": {},
   "source": [
    "# Ecommerce Dataset"
   ]
  },
  {
   "cell_type": "code",
   "execution_count": 168,
   "metadata": {},
   "outputs": [
    {
     "data": {
      "text/html": [
       "<div>\n",
       "<style scoped>\n",
       "    .dataframe tbody tr th:only-of-type {\n",
       "        vertical-align: middle;\n",
       "    }\n",
       "\n",
       "    .dataframe tbody tr th {\n",
       "        vertical-align: top;\n",
       "    }\n",
       "\n",
       "    .dataframe thead th {\n",
       "        text-align: right;\n",
       "    }\n",
       "</style>\n",
       "<table border=\"1\" class=\"dataframe\">\n",
       "  <thead>\n",
       "    <tr style=\"text-align: right;\">\n",
       "      <th></th>\n",
       "      <th>description</th>\n",
       "      <th>Books</th>\n",
       "      <th>Clothing &amp; Accessories</th>\n",
       "      <th>Electronics</th>\n",
       "      <th>Household</th>\n",
       "    </tr>\n",
       "  </thead>\n",
       "  <tbody>\n",
       "    <tr>\n",
       "      <th>0</th>\n",
       "      <td>Paper Plane Design Framed Wall Hanging Motivat...</td>\n",
       "      <td>0</td>\n",
       "      <td>0</td>\n",
       "      <td>0</td>\n",
       "      <td>1</td>\n",
       "    </tr>\n",
       "    <tr>\n",
       "      <th>1</th>\n",
       "      <td>SAF 'Floral' Framed Painting (Wood, 30 inch x ...</td>\n",
       "      <td>0</td>\n",
       "      <td>0</td>\n",
       "      <td>0</td>\n",
       "      <td>1</td>\n",
       "    </tr>\n",
       "    <tr>\n",
       "      <th>2</th>\n",
       "      <td>SAF 'UV Textured Modern Art Print Framed' Pain...</td>\n",
       "      <td>0</td>\n",
       "      <td>0</td>\n",
       "      <td>0</td>\n",
       "      <td>1</td>\n",
       "    </tr>\n",
       "    <tr>\n",
       "      <th>3</th>\n",
       "      <td>SAF Flower Print Framed Painting (Synthetic, 1...</td>\n",
       "      <td>0</td>\n",
       "      <td>0</td>\n",
       "      <td>0</td>\n",
       "      <td>1</td>\n",
       "    </tr>\n",
       "    <tr>\n",
       "      <th>4</th>\n",
       "      <td>Incredible Gifts India Wooden Happy Birthday U...</td>\n",
       "      <td>0</td>\n",
       "      <td>0</td>\n",
       "      <td>0</td>\n",
       "      <td>1</td>\n",
       "    </tr>\n",
       "    <tr>\n",
       "      <th>...</th>\n",
       "      <td>...</td>\n",
       "      <td>...</td>\n",
       "      <td>...</td>\n",
       "      <td>...</td>\n",
       "      <td>...</td>\n",
       "    </tr>\n",
       "    <tr>\n",
       "      <th>27797</th>\n",
       "      <td>Micromax Bharat 5 Plus Zero impact on visual d...</td>\n",
       "      <td>0</td>\n",
       "      <td>0</td>\n",
       "      <td>1</td>\n",
       "      <td>0</td>\n",
       "    </tr>\n",
       "    <tr>\n",
       "      <th>27798</th>\n",
       "      <td>Microsoft Lumia 550 8GB 4G Black Microsoft lum...</td>\n",
       "      <td>0</td>\n",
       "      <td>0</td>\n",
       "      <td>1</td>\n",
       "      <td>0</td>\n",
       "    </tr>\n",
       "    <tr>\n",
       "      <th>27799</th>\n",
       "      <td>Microsoft Lumia 535 (Black, 8GB) Colour:Black ...</td>\n",
       "      <td>0</td>\n",
       "      <td>0</td>\n",
       "      <td>1</td>\n",
       "      <td>0</td>\n",
       "    </tr>\n",
       "    <tr>\n",
       "      <th>27800</th>\n",
       "      <td>Karbonn Titanium Wind W4 (White) Karbonn Titan...</td>\n",
       "      <td>0</td>\n",
       "      <td>0</td>\n",
       "      <td>1</td>\n",
       "      <td>0</td>\n",
       "    </tr>\n",
       "    <tr>\n",
       "      <th>27801</th>\n",
       "      <td>Nokia Lumia 530 (Dual SIM, Grey) Colour:Grey  ...</td>\n",
       "      <td>0</td>\n",
       "      <td>0</td>\n",
       "      <td>1</td>\n",
       "      <td>0</td>\n",
       "    </tr>\n",
       "  </tbody>\n",
       "</table>\n",
       "<p>27802 rows × 5 columns</p>\n",
       "</div>"
      ],
      "text/plain": [
       "                                             description  Books  \\\n",
       "0      Paper Plane Design Framed Wall Hanging Motivat...      0   \n",
       "1      SAF 'Floral' Framed Painting (Wood, 30 inch x ...      0   \n",
       "2      SAF 'UV Textured Modern Art Print Framed' Pain...      0   \n",
       "3      SAF Flower Print Framed Painting (Synthetic, 1...      0   \n",
       "4      Incredible Gifts India Wooden Happy Birthday U...      0   \n",
       "...                                                  ...    ...   \n",
       "27797  Micromax Bharat 5 Plus Zero impact on visual d...      0   \n",
       "27798  Microsoft Lumia 550 8GB 4G Black Microsoft lum...      0   \n",
       "27799  Microsoft Lumia 535 (Black, 8GB) Colour:Black ...      0   \n",
       "27800  Karbonn Titanium Wind W4 (White) Karbonn Titan...      0   \n",
       "27801  Nokia Lumia 530 (Dual SIM, Grey) Colour:Grey  ...      0   \n",
       "\n",
       "       Clothing & Accessories  Electronics  Household  \n",
       "0                           0            0          1  \n",
       "1                           0            0          1  \n",
       "2                           0            0          1  \n",
       "3                           0            0          1  \n",
       "4                           0            0          1  \n",
       "...                       ...          ...        ...  \n",
       "27797                       0            1          0  \n",
       "27798                       0            1          0  \n",
       "27799                       0            1          0  \n",
       "27800                       0            1          0  \n",
       "27801                       0            1          0  \n",
       "\n",
       "[27802 rows x 5 columns]"
      ]
     },
     "execution_count": 168,
     "metadata": {},
     "output_type": "execute_result"
    }
   ],
   "source": [
    "# Load the dataset\n",
    "ecommerce_df = pd.read_csv(\"../ecommerceDataset.csv\", names=[\"label\", \"description\"])\n",
    "ecommerce_df = ecommerce_df[[\"description\", \"label\"]]\n",
    "\n",
    "# Clean the data - drop duplicates and missing values\n",
    "ecommerce_df.dropna(inplace=True)\n",
    "ecommerce_df.drop_duplicates(inplace=True)\n",
    "ecommerce_df.reset_index(drop=True, inplace=True)\n",
    "\n",
    "# One hot encoding\n",
    "ohe = pd.get_dummies(ecommerce_df[\"label\"])\n",
    "ecommerce_df = pd.concat([ecommerce_df[\"description\"], ohe], axis=1)\n",
    "\n",
    "ecommerce_df"
   ]
  },
  {
   "cell_type": "code",
   "execution_count": 169,
   "metadata": {},
   "outputs": [
    {
     "name": "stdout",
     "output_type": "stream",
     "text": [
      "Found 78711 unique tokens.\n",
      "Shape of sentences tensor: (27802, 100)\n",
      "Shape of labels tensor: (27802, 4)\n"
     ]
    },
    {
     "data": {
      "text/plain": [
       "array([    0,     0,     0,     0,     0,     0,     0,     0,     0,\n",
       "           0,     0,     0,     0,     0,     0,     0,     0,     0,\n",
       "           0,     0,     0,     0,     0,     0,     0,     0,     0,\n",
       "           0,     0,     0,     0,     0,     0,     0,     0,     0,\n",
       "           0,     0,     0,     0,     0,     0,     0,     0,     0,\n",
       "           0,     0,     0,     0,     0,     0,     0,     0,     0,\n",
       "           0,     0,     0,     0,     0,     0,     0,     0,     0,\n",
       "           0,     0,     0,     0,     0,     0,     0,     0,     0,\n",
       "           0,     0,     0,     0,     0,     0,     0,     0,     0,\n",
       "           0,     0,     0,     0,     0,     0,     0,     0,     0,\n",
       "           0,     0,     0,   509,  1080,   270,  7953,    37, 19572,\n",
       "          42], dtype=int32)"
      ]
     },
     "execution_count": 169,
     "metadata": {},
     "output_type": "execute_result"
    }
   ],
   "source": [
    "# Text normalization\n",
    "ecommerce_lines = ecommerce_df['description'].values.tolist()\n",
    "ecommerce_sentences = text_normalization(ecommerce_lines)\n",
    "\n",
    "ecommerce_sentences, ecommerce_word_index = vectorize_text(ecommerce_sentences)\n",
    "ecommerce_labels = np.array((ecommerce_df['Books'].values, ecommerce_df['Clothing & Accessories'].values, ecommerce_df['Electronics'].values, ecommerce_df['Household'].values)).T\n",
    "print('Shape of sentences tensor:', ecommerce_sentences.shape)\n",
    "print('Shape of labels tensor:', ecommerce_labels.shape)\n",
    "\n",
    "ecommerce_data = split_data(ecommerce_sentences, ecommerce_labels)\n",
    "\n",
    "ecommerce_embedding_matrix, ecommerce_num_words = get_embedding_matrix(ecommerce_word_index)\n",
    "\n",
    "ecommerce_data[0][0]"
   ]
  },
  {
   "cell_type": "code",
   "execution_count": null,
   "metadata": {},
   "outputs": [
    {
     "name": "stdout",
     "output_type": "stream",
     "text": [
      "Summary of the built model...\n",
      "Model: \"sequential_24\"\n",
      "_________________________________________________________________\n",
      " Layer (type)                Output Shape              Param #   \n",
      "=================================================================\n",
      " embedding_24 (Embedding)    (None, 100, 50)           3935600   \n",
      "                                                                 \n",
      " lstm_18 (LSTM)              (None, 32)                10624     \n",
      "                                                                 \n",
      " dense_18 (Dense)            (None, 4)                 132       \n",
      "                                                                 \n",
      "=================================================================\n",
      "Total params: 3,946,356\n",
      "Trainable params: 10,756\n",
      "Non-trainable params: 3,935,600\n",
      "_________________________________________________________________\n",
      "None\n",
      "Epoch 1/50\n"
     ]
    }
   ],
   "source": [
    "# Train the model\n",
    "from keras.callbacks import EarlyStopping\n",
    "\n",
    "es = EarlyStopping(\n",
    "        monitor=\"val_loss\",\n",
    "        patience=3,\n",
    "        restore_best_weights=True,\n",
    "    )\n",
    "\n",
    "ecommerce_model, ecommerce_history = train(ecommerce_num_words, ecommerce_embedding_matrix, ecommerce_data, num_outputs=4, batch_size=10, epochs=50, callbacks=[es])\n"
   ]
  },
  {
   "cell_type": "code",
   "execution_count": 39,
   "metadata": {},
   "outputs": [
    {
     "name": "stdout",
     "output_type": "stream",
     "text": [
      "INFO:tensorflow:Assets written to: ecommerce_model/assets\n"
     ]
    }
   ],
   "source": [
    "ecommerce_model.save('ecommerce_model')"
   ]
  },
  {
   "cell_type": "code",
   "execution_count": 167,
   "metadata": {},
   "outputs": [
    {
     "data": {
      "image/png": "[encoded data removed]",
      "text/plain": [
       "<Figure size 640x480 with 1 Axes>"
      ]
     },
     "metadata": {},
     "output_type": "display_data"
    },
    {
     "data": {
      "image/png": "[encoded data removed]",
      "text/plain": [
       "<Figure size 640x480 with 1 Axes>"
      ]
     },
     "metadata": {},
     "output_type": "display_data"
    }
   ],
   "source": [
    "plot_accuracy_loss(ecommerce_history)"
   ]
  },
  {
   "cell_type": "code",
   "execution_count": 165,
   "metadata": {},
   "outputs": [
    {
     "name": "stdout",
     "output_type": "stream",
     "text": [
      "1/1 [==============================] - 0s 126ms/step\n",
      "Sentence being analyzed by the model:  Table Lamp with Pull Chain: The USB Bedside Table Lamp comes with a stylish pull chain to control the lamp, you can easy to turn on or turn off the light by pulling the chain, even in the darkness.\n",
      "Prediction: Household with probability 99.55211877822876%\n"
     ]
    }
   ],
   "source": [
    "test = \"Table Lamp with Pull Chain: The USB Bedside Table Lamp comes with a stylish pull chain to control the lamp, you can easy to turn on or turn off the light by pulling the chain, even in the darkness.\"\n",
    "# test = \"A workwear staple, this men's pocket t-shirt is equal parts durable and comfortable. It has an original fit, Carhartt's roomiest cut. The heavyweight fabric only gets softer with time.\"\n",
    "# test = \"NEW YORK TIMES BESTSELLER • The epic tale of a woman who breathes a fantastical empire into existence, only to be consumed by it over the centuries—from the transcendent imagination of Booker Prize–winning, internationally bestselling author Salman Rushdie\"\n",
    "# test = \"Dominate on a different scale with the Razer Huntsman Mini TKL — a 60% gaming keyboard with cutting-edge Razer Clicky Optical Switches. Highly portable and ideal for streamlined setups, it’s time to experience lightning-fast actuation in our most compact form factor yet.\"\n",
    "\n",
    "tokens = word_tokenize(test)\n",
    "# convert to lower case\n",
    "tokens = [w.lower() for w in tokens]\n",
    "# remove punctuation from each word    \n",
    "table = str.maketrans('', '', string.punctuation)\n",
    "stripped = [w.translate(table) for w in tokens]\n",
    "# remove remaining tokens that are not alphabetic\n",
    "words = [word for word in stripped if word.isalpha()]\n",
    "# filter out stop words    \n",
    "stop_words = set(stopwords.words('english'))\n",
    "words = [w for w in words if not w in stop_words]\n",
    "\n",
    "\n",
    "sequences = tokenizer_obj.texts_to_sequences([words])\n",
    "\n",
    "\n",
    "review_pad = pad_sequences(sequences, maxlen=max_length)\n",
    "\n",
    "encoding = [\"Books\", \"Clothing & Accessories\", \"Electronics\", \"Household\"]\n",
    "probabilities = ecommerce_model.predict(review_pad)\n",
    "prediction = np.argmax(probabilities)\n",
    "\n",
    "print('Sentence being analyzed by the model: ', test)\n",
    "print(f'Prediction: {encoding[prediction]} with probability {probabilities[0][prediction] * 100}%')"
   ]
  },
  {
   "cell_type": "code",
   "execution_count": null,
   "metadata": {},
   "outputs": [],
   "source": []
  }
 ],
 "metadata": {
  "colab": {
   "collapsed_sections": [],
   "name": "glove_lstm.ipynb",
   "provenance": []
  },
  "kernelspec": {
   "display_name": "Python 3 (ipykernel)",
   "language": "python",
   "name": "python3"
  },
  "language_info": {
   "codemirror_mode": {
    "name": "ipython",
    "version": 3
   },
   "file_extension": ".py",
   "mimetype": "text/x-python",
   "name": "python",
   "nbconvert_exporter": "python",
   "pygments_lexer": "ipython3",
   "version": "3.10.9"
  }
 },
 "nbformat": 4,
 "nbformat_minor": 1
}
