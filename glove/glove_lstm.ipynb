{
 "cells": [
  {
   "cell_type": "markdown",
   "metadata": {},
   "source": [
    "# Urgency Dataset"
   ]
  },
  {
   "cell_type": "code",
   "execution_count": 2,
   "metadata": {
    "id": "Z4nKECq8K2dE"
   },
   "outputs": [
    {
     "data": {
      "text/html": [
       "<div>\n",
       "<style scoped>\n",
       "    .dataframe tbody tr th:only-of-type {\n",
       "        vertical-align: middle;\n",
       "    }\n",
       "\n",
       "    .dataframe tbody tr th {\n",
       "        vertical-align: top;\n",
       "    }\n",
       "\n",
       "    .dataframe thead th {\n",
       "        text-align: right;\n",
       "    }\n",
       "</style>\n",
       "<table border=\"1\" class=\"dataframe\">\n",
       "  <thead>\n",
       "    <tr style=\"text-align: right;\">\n",
       "      <th></th>\n",
       "      <th>Sentence</th>\n",
       "      <th>critical</th>\n",
       "      <th>info</th>\n",
       "      <th>warning</th>\n",
       "    </tr>\n",
       "  </thead>\n",
       "  <tbody>\n",
       "    <tr>\n",
       "      <th>0</th>\n",
       "      <td>As of today 60 people went missing on the park</td>\n",
       "      <td>1</td>\n",
       "      <td>0</td>\n",
       "      <td>0</td>\n",
       "    </tr>\n",
       "    <tr>\n",
       "      <th>1</th>\n",
       "      <td>The biker was injured on the street and now is...</td>\n",
       "      <td>1</td>\n",
       "      <td>0</td>\n",
       "      <td>0</td>\n",
       "    </tr>\n",
       "    <tr>\n",
       "      <th>2</th>\n",
       "      <td>The president has been kidnapped by terrorists</td>\n",
       "      <td>1</td>\n",
       "      <td>0</td>\n",
       "      <td>0</td>\n",
       "    </tr>\n",
       "    <tr>\n",
       "      <th>3</th>\n",
       "      <td>People in Louisiana are in dire need of food a...</td>\n",
       "      <td>1</td>\n",
       "      <td>0</td>\n",
       "      <td>0</td>\n",
       "    </tr>\n",
       "    <tr>\n",
       "      <th>4</th>\n",
       "      <td>Five cars were hit and are now stranded beneat...</td>\n",
       "      <td>1</td>\n",
       "      <td>0</td>\n",
       "      <td>0</td>\n",
       "    </tr>\n",
       "  </tbody>\n",
       "</table>\n",
       "</div>"
      ],
      "text/plain": [
       "                                            Sentence  critical  info  warning\n",
       "0     As of today 60 people went missing on the park         1     0        0\n",
       "1  The biker was injured on the street and now is...         1     0        0\n",
       "2    The president has been kidnapped by terrorists          1     0        0\n",
       "3  People in Louisiana are in dire need of food a...         1     0        0\n",
       "4  Five cars were hit and are now stranded beneat...         1     0        0"
      ]
     },
     "execution_count": 2,
     "metadata": {},
     "output_type": "execute_result"
    }
   ],
   "source": [
    "import pandas as pd\n",
    "\n",
    "df = pd.read_csv(\"../UrgencySentenceSamples.csv\", encoding=\"utf-8\") \n",
    "ohe = pd.get_dummies(df[\"Label\"])\n",
    "df = pd.concat([df[\"Sentence\"], ohe], axis=1)\n",
    "df.head(5)"
   ]
  },
  {
   "cell_type": "code",
   "execution_count": 3,
   "metadata": {
    "colab": {
     "base_uri": "https://localhost:8080/"
    },
    "executionInfo": {
     "elapsed": 3356,
     "status": "ok",
     "timestamp": 1614208307929,
     "user": {
      "displayName": "Andres Carranza",
      "photoUrl": "https://lh3.googleusercontent.com/-y8omq7S5a60/AAAAAAAAAAI/AAAAAAAAUsM/VVDMmS9z1iA/s64/photo.jpg",
      "userId": "05882358103446048836"
     },
     "user_tz": 300
    },
    "id": "ec-i0cLdV9iO",
    "outputId": "e9ac54ff-4af3-4697-8dd2-34a7647efba6"
   },
   "outputs": [
    {
     "name": "stderr",
     "output_type": "stream",
     "text": [
      "[nltk_data] Downloading package punkt to /Users/aszeto1/nltk_data...\n",
      "[nltk_data]   Package punkt is already up-to-date!\n",
      "[nltk_data] Downloading package stopwords to\n",
      "[nltk_data]     /Users/aszeto1/nltk_data...\n",
      "[nltk_data]   Package stopwords is already up-to-date!\n"
     ]
    }
   ],
   "source": [
    "#import nltk and clean the corpus\n",
    "import string\n",
    "from nltk.tokenize import word_tokenize\n",
    "from nltk.corpus import stopwords\n",
    "import nltk \n",
    "\n",
    "lines = df['Sentence'].values.tolist()\n",
    "\n",
    "nltk.download('punkt')\n",
    "nltk.download('stopwords')\n",
    "\n",
    "def text_normalization(lines):\n",
    "    sentences = list()\n",
    "    for line in lines:   \n",
    "        tokens = word_tokenize(line)\n",
    "        # convert to lower case\n",
    "        tokens = [w.lower() for w in tokens]\n",
    "        # remove punctuation from each word    \n",
    "        table = str.maketrans('', '', string.punctuation)\n",
    "        stripped = [w.translate(table) for w in tokens]\n",
    "        # remove remaining tokens that are not alphabetic\n",
    "        words = [word for word in stripped if word.isalpha()]\n",
    "        # filter out stop words    \n",
    "        stop_words = set(stopwords.words('english'))\n",
    "        words = [w for w in words if not w in stop_words]\n",
    "        sentences.append(words)\n",
    "    return sentences\n",
    "\n",
    "sentences = text_normalization(lines)"
   ]
  },
  {
   "cell_type": "code",
   "execution_count": 4,
   "metadata": {
    "colab": {
     "base_uri": "https://localhost:8080/"
    },
    "executionInfo": {
     "elapsed": 434,
     "status": "ok",
     "timestamp": 1614208314760,
     "user": {
      "displayName": "Andres Carranza",
      "photoUrl": "https://lh3.googleusercontent.com/-y8omq7S5a60/AAAAAAAAAAI/AAAAAAAAUsM/VVDMmS9z1iA/s64/photo.jpg",
      "userId": "05882358103446048836"
     },
     "user_tz": 300
    },
    "id": "VRoMI7VwUA2Z",
    "outputId": "41843067-ecf9-4b37-ec77-2074f253ae8b"
   },
   "outputs": [
    {
     "name": "stdout",
     "output_type": "stream",
     "text": [
      "['today', 'people', 'went', 'missing', 'park']\n"
     ]
    }
   ],
   "source": [
    "print(sentences[0])"
   ]
  },
  {
   "cell_type": "code",
   "execution_count": 5,
   "metadata": {
    "id": "oimRYkmt8wzN"
   },
   "outputs": [],
   "source": [
    "#import data processing libraries\n",
    "import numpy as np\n",
    "from scipy import spatial\n",
    "import matplotlib.pyplot as plt\n",
    "from sklearn.manifold import TSNE"
   ]
  },
  {
   "cell_type": "code",
   "execution_count": 6,
   "metadata": {
    "id": "Y5rD55uj33iq"
   },
   "outputs": [],
   "source": [
    "#load glove embedding\n",
    "embeddings_dict = {}\n",
    "\n",
    "with open('glove.6B/glove.6B.50d.txt', 'r', encoding=\"utf8\") as f:\n",
    "    for line in f:\n",
    "        values = line.split()\n",
    "        word = values[0]\n",
    "        vector = np.asarray(values[1:], \"float32\")\n",
    "        embeddings_dict[word] = vector"
   ]
  },
  {
   "cell_type": "code",
   "execution_count": 7,
   "metadata": {
    "colab": {
     "base_uri": "https://localhost:8080/"
    },
    "executionInfo": {
     "elapsed": 1957,
     "status": "ok",
     "timestamp": 1614208462469,
     "user": {
      "displayName": "Andres Carranza",
      "photoUrl": "https://lh3.googleusercontent.com/-y8omq7S5a60/AAAAAAAAAAI/AAAAAAAAUsM/VVDMmS9z1iA/s64/photo.jpg",
      "userId": "05882358103446048836"
     },
     "user_tz": 300
    },
    "id": "XIczd4TSUlb8",
    "outputId": "bdb305dd-b3e4-4fbb-83ec-c94ddb189dbf"
   },
   "outputs": [
    {
     "name": "stdout",
     "output_type": "stream",
     "text": [
      "Found 157 unique tokens.\n",
      "Shape of review tensor: (44, 100)\n",
      "Shape of urgency tensor: (44, 3)\n"
     ]
    }
   ],
   "source": [
    "from keras_preprocessing.text import Tokenizer\n",
    "from keras_preprocessing.sequence import pad_sequences\n",
    "\n",
    "VALIDATION_SPLIT = 0.10\n",
    "max_length = 100\n",
    "\n",
    "# vectorize the text samples into a 2D integer tensor\n",
    "tokenizer_obj = Tokenizer() \n",
    "tokenizer_obj.fit_on_texts(sentences)\n",
    "sequences = tokenizer_obj.texts_to_sequences(sentences)\n",
    "\n",
    "# pad sequences\n",
    "word_index = tokenizer_obj.word_index\n",
    "print('Found %s unique tokens.' % len(word_index))\n",
    "\n",
    "\n",
    "review_pad = pad_sequences(sequences, maxlen=max_length)\n",
    "\n",
    "urgency = np.array((df['critical'].values, df['warning'].values, df['info'].values)).T\n",
    "print('Shape of review tensor:', review_pad.shape)\n",
    "print('Shape of urgency tensor:', urgency.shape)\n",
    "\n",
    "# split the data into a training set and a validation set\n",
    "indices = np.arange(review_pad.shape[0])\n",
    "np.random.shuffle(indices)\n",
    "review_pad = review_pad[indices]\n",
    "urgency = urgency[indices]\n",
    "num_validation_samples = int(VALIDATION_SPLIT * review_pad.shape[0])\n",
    "\n",
    "\n",
    "X_train_pad = review_pad[:-num_validation_samples]\n",
    "y_train = urgency[:-num_validation_samples]\n",
    "X_test_pad = review_pad[-num_validation_samples:]\n",
    "y_test = urgency[-num_validation_samples:]"
   ]
  },
  {
   "cell_type": "code",
   "execution_count": 8,
   "metadata": {
    "colab": {
     "base_uri": "https://localhost:8080/"
    },
    "executionInfo": {
     "elapsed": 772,
     "status": "ok",
     "timestamp": 1614208488692,
     "user": {
      "displayName": "Andres Carranza",
      "photoUrl": "https://lh3.googleusercontent.com/-y8omq7S5a60/AAAAAAAAAAI/AAAAAAAAUsM/VVDMmS9z1iA/s64/photo.jpg",
      "userId": "05882358103446048836"
     },
     "user_tz": 300
    },
    "id": "csZ01UMhUp8f",
    "outputId": "7606acfe-28d2-489f-c9e6-24d2e36ce0ce"
   },
   "outputs": [
    {
     "data": {
      "text/plain": [
       "array([  0,   0,   0,   0,   0,   0,   0,   0,   0,   0,   0,   0,   0,\n",
       "         0,   0,   0,   0,   0,   0,   0,   0,   0,   0,   0,   0,   0,\n",
       "         0,   0,   0,   0,   0,   0,   0,   0,   0,   0,   0,   0,   0,\n",
       "         0,   0,   0,   0,   0,   0,   0,   0,   0,   0,   0,   0,   0,\n",
       "         0,   0,   0,   0,   0,   0,   0,   0,   0,   0,   0,   0,   0,\n",
       "         0,   0,   0,   0,   0,   0,   0,   0,   0,   0,   0,   0,   0,\n",
       "         0,   0,   0,   0,   0,   0,   0,   0,   0,   0,   0,   0,   0,\n",
       "         0,   0,   0,   0,   0,   5, 148,   3, 149], dtype=int32)"
      ]
     },
     "execution_count": 8,
     "metadata": {},
     "output_type": "execute_result"
    }
   ],
   "source": [
    "X_train_pad[0]"
   ]
  },
  {
   "cell_type": "code",
   "execution_count": 9,
   "metadata": {
    "id": "eL7xN2HgUVOG"
   },
   "outputs": [],
   "source": [
    "#set up embedding matrix\n",
    "EMBEDDING_DIM =50\n",
    "num_words = len(word_index) + 1\n",
    "embedding_matrix = np.zeros((num_words, EMBEDDING_DIM))\n",
    "\n",
    "for word, i in word_index.items():\n",
    "    if i > num_words:\n",
    "        continue\n",
    "    embedding_vector = embeddings_dict.get(word)\n",
    "  \n",
    "    if embedding_vector is not None:\n",
    "        # words not found in embedding index will be all-zeros.\n",
    "        embedding_matrix[i] = embedding_vector\n"
   ]
  },
  {
   "cell_type": "code",
   "execution_count": 10,
   "metadata": {
    "colab": {
     "base_uri": "https://localhost:8080/"
    },
    "executionInfo": {
     "elapsed": 50423,
     "status": "ok",
     "timestamp": 1614208783754,
     "user": {
      "displayName": "Andres Carranza",
      "photoUrl": "https://lh3.googleusercontent.com/-y8omq7S5a60/AAAAAAAAAAI/AAAAAAAAUsM/VVDMmS9z1iA/s64/photo.jpg",
      "userId": "05882358103446048836"
     },
     "user_tz": 300
    },
    "id": "mikBlJADTed_",
    "outputId": "bf9fbbdf-8f89-4324-9822-82276b8a2fdc"
   },
   "outputs": [
    {
     "name": "stderr",
     "output_type": "stream",
     "text": [
      "2023-03-02 22:19:40.114981: I tensorflow/core/platform/cpu_feature_guard.cc:193] This TensorFlow binary is optimized with oneAPI Deep Neural Network Library (oneDNN) to use the following CPU instructions in performance-critical operations:  SSE4.1 SSE4.2 AVX AVX2 FMA\n",
      "To enable them in other operations, rebuild TensorFlow with the appropriate compiler flags.\n"
     ]
    },
    {
     "name": "stdout",
     "output_type": "stream",
     "text": [
      "Summary of the built model...\n",
      "Model: \"sequential\"\n",
      "_________________________________________________________________\n",
      " Layer (type)                Output Shape              Param #   \n",
      "=================================================================\n",
      " embedding (Embedding)       (None, 100, 50)           7900      \n",
      "                                                                 \n",
      " lstm (LSTM)                 (None, 32)                10624     \n",
      "                                                                 \n",
      " dense (Dense)               (None, 3)                 99        \n",
      "                                                                 \n",
      "=================================================================\n",
      "Total params: 18,623\n",
      "Trainable params: 10,723\n",
      "Non-trainable params: 7,900\n",
      "_________________________________________________________________\n",
      "None\n",
      "Epoch 1/25\n"
     ]
    },
    {
     "name": "stderr",
     "output_type": "stream",
     "text": [
      "2023-03-02 22:19:44.198081: I tensorflow/core/platform/cpu_feature_guard.cc:193] This TensorFlow binary is optimized with oneAPI Deep Neural Network Library (oneDNN) to use the following CPU instructions in performance-critical operations:  SSE4.1 SSE4.2 AVX AVX2 FMA\n",
      "To enable them in other operations, rebuild TensorFlow with the appropriate compiler flags.\n"
     ]
    },
    {
     "name": "stdout",
     "output_type": "stream",
     "text": [
      "40/40 - 3s - loss: 1.0811 - accuracy: 0.5000 - val_loss: 1.0736 - val_accuracy: 0.5000 - 3s/epoch - 71ms/step\n",
      "Epoch 2/25\n",
      "40/40 - 1s - loss: 0.9566 - accuracy: 0.6500 - val_loss: 0.9907 - val_accuracy: 0.7500 - 1s/epoch - 29ms/step\n",
      "Epoch 3/25\n",
      "40/40 - 1s - loss: 0.8467 - accuracy: 0.7250 - val_loss: 0.8898 - val_accuracy: 0.7500 - 1s/epoch - 27ms/step\n",
      "Epoch 4/25\n",
      "40/40 - 1s - loss: 0.7610 - accuracy: 0.7750 - val_loss: 0.8081 - val_accuracy: 0.7500 - 1s/epoch - 27ms/step\n",
      "Epoch 5/25\n",
      "40/40 - 1s - loss: 0.6542 - accuracy: 0.8250 - val_loss: 0.7153 - val_accuracy: 0.7500 - 1s/epoch - 26ms/step\n",
      "Epoch 6/25\n",
      "40/40 - 1s - loss: 0.5572 - accuracy: 0.9000 - val_loss: 0.5891 - val_accuracy: 0.7500 - 1s/epoch - 26ms/step\n",
      "Epoch 7/25\n",
      "40/40 - 1s - loss: 0.5029 - accuracy: 0.8250 - val_loss: 0.4410 - val_accuracy: 0.7500 - 1s/epoch - 26ms/step\n",
      "Epoch 8/25\n",
      "40/40 - 1s - loss: 0.3653 - accuracy: 0.9250 - val_loss: 0.3571 - val_accuracy: 1.0000 - 1s/epoch - 26ms/step\n",
      "Epoch 9/25\n",
      "40/40 - 1s - loss: 0.3476 - accuracy: 0.9000 - val_loss: 0.3554 - val_accuracy: 0.7500 - 1s/epoch - 26ms/step\n",
      "Epoch 10/25\n",
      "40/40 - 1s - loss: 0.2820 - accuracy: 0.9500 - val_loss: 0.3921 - val_accuracy: 0.7500 - 1s/epoch - 26ms/step\n",
      "Epoch 11/25\n",
      "40/40 - 1s - loss: 0.2128 - accuracy: 0.9500 - val_loss: 0.3335 - val_accuracy: 1.0000 - 1s/epoch - 26ms/step\n",
      "Epoch 12/25\n",
      "40/40 - 1s - loss: 0.1999 - accuracy: 0.9500 - val_loss: 0.3918 - val_accuracy: 1.0000 - 1s/epoch - 26ms/step\n",
      "Epoch 13/25\n",
      "40/40 - 1s - loss: 0.1749 - accuracy: 0.9500 - val_loss: 0.2997 - val_accuracy: 1.0000 - 1s/epoch - 27ms/step\n",
      "Epoch 14/25\n",
      "40/40 - 1s - loss: 0.1485 - accuracy: 0.9500 - val_loss: 0.8889 - val_accuracy: 0.5000 - 1s/epoch - 26ms/step\n",
      "Epoch 15/25\n",
      "40/40 - 1s - loss: 0.1151 - accuracy: 1.0000 - val_loss: 0.4521 - val_accuracy: 0.7500 - 1s/epoch - 26ms/step\n",
      "Epoch 16/25\n",
      "40/40 - 1s - loss: 0.0829 - accuracy: 0.9750 - val_loss: 0.5565 - val_accuracy: 0.5000 - 1s/epoch - 26ms/step\n",
      "Epoch 17/25\n",
      "40/40 - 1s - loss: 0.0732 - accuracy: 1.0000 - val_loss: 0.3224 - val_accuracy: 0.7500 - 1s/epoch - 26ms/step\n",
      "Epoch 18/25\n",
      "40/40 - 1s - loss: 0.1167 - accuracy: 0.9500 - val_loss: 0.6184 - val_accuracy: 0.7500 - 1s/epoch - 26ms/step\n",
      "Epoch 19/25\n",
      "40/40 - 1s - loss: 0.0556 - accuracy: 1.0000 - val_loss: 0.0576 - val_accuracy: 1.0000 - 1s/epoch - 26ms/step\n",
      "Epoch 20/25\n",
      "40/40 - 1s - loss: 0.0708 - accuracy: 0.9750 - val_loss: 0.4436 - val_accuracy: 0.7500 - 1s/epoch - 26ms/step\n",
      "Epoch 21/25\n",
      "40/40 - 1s - loss: 0.0542 - accuracy: 1.0000 - val_loss: 0.2892 - val_accuracy: 0.7500 - 1s/epoch - 26ms/step\n",
      "Epoch 22/25\n",
      "40/40 - 1s - loss: 0.1118 - accuracy: 0.9750 - val_loss: 1.5956 - val_accuracy: 0.5000 - 1s/epoch - 26ms/step\n",
      "Epoch 23/25\n",
      "40/40 - 1s - loss: 0.0819 - accuracy: 0.9750 - val_loss: 0.1634 - val_accuracy: 1.0000 - 1s/epoch - 26ms/step\n",
      "Epoch 24/25\n",
      "40/40 - 1s - loss: 0.0346 - accuracy: 1.0000 - val_loss: 0.3127 - val_accuracy: 0.7500 - 1s/epoch - 26ms/step\n",
      "Epoch 25/25\n",
      "40/40 - 1s - loss: 0.0635 - accuracy: 0.9750 - val_loss: 0.5050 - val_accuracy: 0.5000 - 1s/epoch - 26ms/step\n"
     ]
    }
   ],
   "source": [
    "from keras.models import Sequential\n",
    "from keras.layers import Dense, Embedding, LSTM, GRU\n",
    "from tensorflow.keras.layers import Embedding\n",
    "from keras.initializers import Constant\n",
    "\n",
    "# define model\n",
    "model = Sequential()\n",
    "embedding_layer = Embedding(num_words,\n",
    "                            EMBEDDING_DIM,\n",
    "                            embeddings_initializer=Constant(embedding_matrix),\n",
    "                            input_length=max_length,\n",
    "                            trainable=False)\n",
    "model.add(embedding_layer)\n",
    "model.add(LSTM(units=32,  dropout=0.2, recurrent_dropout=0.2))\n",
    "model.add(Dense(3, activation='softmax'))\n",
    "\n",
    "# try using different optimizers and different optimizer configs\n",
    "model.compile(loss='categorical_crossentropy', optimizer='adam', metrics=['accuracy'])\n",
    "\n",
    "print('Summary of the built model...')\n",
    "print(model.summary())\n",
    "\n",
    "# fit the model\n",
    "history = model.fit(X_train_pad, y_train, batch_size=1, epochs=25, validation_data=(X_test_pad, y_test), verbose=2)\n"
   ]
  },
  {
   "cell_type": "code",
   "execution_count": 11,
   "metadata": {
    "colab": {
     "base_uri": "https://localhost:8080/",
     "height": 136
    },
    "executionInfo": {
     "elapsed": 51645,
     "status": "ok",
     "timestamp": 1614208787538,
     "user": {
      "displayName": "Andres Carranza",
      "photoUrl": "https://lh3.googleusercontent.com/-y8omq7S5a60/AAAAAAAAAAI/AAAAAAAAUsM/VVDMmS9z1iA/s64/photo.jpg",
      "userId": "05882358103446048836"
     },
     "user_tz": 300
    },
    "id": "6yADOJGHbuBd",
    "outputId": "177bcc3b-230a-4406-e70a-1bdf3344df38"
   },
   "outputs": [
    {
     "name": "stdout",
     "output_type": "stream",
     "text": [
      "INFO:tensorflow:Assets written to: model/assets\n"
     ]
    }
   ],
   "source": [
    "#save model into remote filesystem\n",
    "model.save('model')"
   ]
  },
  {
   "cell_type": "code",
   "execution_count": 12,
   "metadata": {
    "colab": {
     "base_uri": "https://localhost:8080/",
     "height": 573
    },
    "executionInfo": {
     "elapsed": 1012,
     "status": "ok",
     "timestamp": 1614208788573,
     "user": {
      "displayName": "Andres Carranza",
      "photoUrl": "https://lh3.googleusercontent.com/-y8omq7S5a60/AAAAAAAAAAI/AAAAAAAAUsM/VVDMmS9z1iA/s64/photo.jpg",
      "userId": "05882358103446048836"
     },
     "user_tz": 300
    },
    "id": "elA2CEfhh-k0",
    "outputId": "92711819-e29e-496b-ecac-43cbfcae9c65"
   },
   "outputs": [
    {
     "data": {
      "image/png": "[encoded data removed]",
      "text/plain": [
       "<Figure size 640x480 with 1 Axes>"
      ]
     },
     "metadata": {},
     "output_type": "display_data"
    },
    {
     "data": {
      "image/png": "[encoded data removed]",
      "text/plain": [
       "<Figure size 640x480 with 1 Axes>"
      ]
     },
     "metadata": {},
     "output_type": "display_data"
    }
   ],
   "source": [
    "# summarize history for accuracy\n",
    "plt.plot(history.history['accuracy'])\n",
    "plt.plot(history.history['val_accuracy'])\n",
    "plt.title('model accuracy')\n",
    "plt.ylabel('accuracy')\n",
    "plt.xlabel('epoch')\n",
    "plt.legend(['train', 'test'], loc='upper left')\n",
    "plt.show()\n",
    "# summarize history for loss\n",
    "plt.plot(history.history['loss'])\n",
    "plt.plot(history.history['val_loss'])\n",
    "plt.title('model loss')\n",
    "plt.ylabel('loss')\n",
    "plt.xlabel('epoch')\n",
    "plt.legend(['train', 'test'], loc='upper left')\n",
    "plt.show()"
   ]
  },
  {
   "cell_type": "code",
   "execution_count": 13,
   "metadata": {
    "colab": {
     "base_uri": "https://localhost:8080/"
    },
    "executionInfo": {
     "elapsed": 422,
     "status": "ok",
     "timestamp": 1614208862483,
     "user": {
      "displayName": "Andres Carranza",
      "photoUrl": "https://lh3.googleusercontent.com/-y8omq7S5a60/AAAAAAAAAAI/AAAAAAAAUsM/VVDMmS9z1iA/s64/photo.jpg",
      "userId": "05882358103446048836"
     },
     "user_tz": 300
    },
    "id": "0kFUQmRcftRH",
    "outputId": "59bc1f78-58b5-4f99-8527-2af6fcbab9dc"
   },
   "outputs": [
    {
     "name": "stdout",
     "output_type": "stream",
     "text": [
      "1/1 [==============================] - 0s 234ms/step\n",
      "Sentence being analyzed by the model:  My brother is named Jeremy\n",
      "Prediction: info with probability 60.899680852890015%\n"
     ]
    }
   ],
   "source": [
    "test = \"I need to buy a bike very soon\" \n",
    "test = \"I am in critical danger or starving to death\"\n",
    "test = \"My brother is named Jeremy\"\n",
    "\n",
    "\n",
    "tokens = word_tokenize(test)\n",
    "# convert to lower case\n",
    "tokens = [w.lower() for w in tokens]\n",
    "# remove punctuation from each word    \n",
    "table = str.maketrans('', '', string.punctuation)\n",
    "stripped = [w.translate(table) for w in tokens]\n",
    "# remove remaining tokens that are not alphabetic\n",
    "words = [word for word in stripped if word.isalpha()]\n",
    "# filter out stop words    \n",
    "stop_words = set(stopwords.words('english'))\n",
    "words = [w for w in words if not w in stop_words]\n",
    "\n",
    "\n",
    "sequences = tokenizer_obj.texts_to_sequences([words])\n",
    "\n",
    "\n",
    "review_pad = pad_sequences(sequences, maxlen=max_length)\n",
    "\n",
    "encoding = [\"critical\", \"warning\", \"info\"]\n",
    "probabilities = model.predict(review_pad)\n",
    "prediction = np.argmax(probabilities)\n",
    "\n",
    "print('Sentence being analyzed by the model: ', test)\n",
    "print(f'Prediction: {encoding[prediction]} with probability {probabilities[0][prediction] * 100}%')"
   ]
  },
  {
   "cell_type": "markdown",
   "metadata": {},
   "source": [
    "# Ecommerce Dataset"
   ]
  },
  {
   "cell_type": "code",
   "execution_count": 33,
   "metadata": {},
   "outputs": [
    {
     "data": {
      "text/html": [
       "<div>\n",
       "<style scoped>\n",
       "    .dataframe tbody tr th:only-of-type {\n",
       "        vertical-align: middle;\n",
       "    }\n",
       "\n",
       "    .dataframe tbody tr th {\n",
       "        vertical-align: top;\n",
       "    }\n",
       "\n",
       "    .dataframe thead th {\n",
       "        text-align: right;\n",
       "    }\n",
       "</style>\n",
       "<table border=\"1\" class=\"dataframe\">\n",
       "  <thead>\n",
       "    <tr style=\"text-align: right;\">\n",
       "      <th></th>\n",
       "      <th>description</th>\n",
       "      <th>Books</th>\n",
       "      <th>Clothing &amp; Accessories</th>\n",
       "      <th>Electronics</th>\n",
       "      <th>Household</th>\n",
       "    </tr>\n",
       "  </thead>\n",
       "  <tbody>\n",
       "    <tr>\n",
       "      <th>0</th>\n",
       "      <td>Paper Plane Design Framed Wall Hanging Motivat...</td>\n",
       "      <td>0</td>\n",
       "      <td>0</td>\n",
       "      <td>0</td>\n",
       "      <td>1</td>\n",
       "    </tr>\n",
       "    <tr>\n",
       "      <th>1</th>\n",
       "      <td>SAF 'Floral' Framed Painting (Wood, 30 inch x ...</td>\n",
       "      <td>0</td>\n",
       "      <td>0</td>\n",
       "      <td>0</td>\n",
       "      <td>1</td>\n",
       "    </tr>\n",
       "    <tr>\n",
       "      <th>2</th>\n",
       "      <td>SAF 'UV Textured Modern Art Print Framed' Pain...</td>\n",
       "      <td>0</td>\n",
       "      <td>0</td>\n",
       "      <td>0</td>\n",
       "      <td>1</td>\n",
       "    </tr>\n",
       "    <tr>\n",
       "      <th>3</th>\n",
       "      <td>SAF Flower Print Framed Painting (Synthetic, 1...</td>\n",
       "      <td>0</td>\n",
       "      <td>0</td>\n",
       "      <td>0</td>\n",
       "      <td>1</td>\n",
       "    </tr>\n",
       "    <tr>\n",
       "      <th>4</th>\n",
       "      <td>Incredible Gifts India Wooden Happy Birthday U...</td>\n",
       "      <td>0</td>\n",
       "      <td>0</td>\n",
       "      <td>0</td>\n",
       "      <td>1</td>\n",
       "    </tr>\n",
       "    <tr>\n",
       "      <th>...</th>\n",
       "      <td>...</td>\n",
       "      <td>...</td>\n",
       "      <td>...</td>\n",
       "      <td>...</td>\n",
       "      <td>...</td>\n",
       "    </tr>\n",
       "    <tr>\n",
       "      <th>27797</th>\n",
       "      <td>Micromax Bharat 5 Plus Zero impact on visual d...</td>\n",
       "      <td>0</td>\n",
       "      <td>0</td>\n",
       "      <td>1</td>\n",
       "      <td>0</td>\n",
       "    </tr>\n",
       "    <tr>\n",
       "      <th>27798</th>\n",
       "      <td>Microsoft Lumia 550 8GB 4G Black Microsoft lum...</td>\n",
       "      <td>0</td>\n",
       "      <td>0</td>\n",
       "      <td>1</td>\n",
       "      <td>0</td>\n",
       "    </tr>\n",
       "    <tr>\n",
       "      <th>27799</th>\n",
       "      <td>Microsoft Lumia 535 (Black, 8GB) Colour:Black ...</td>\n",
       "      <td>0</td>\n",
       "      <td>0</td>\n",
       "      <td>1</td>\n",
       "      <td>0</td>\n",
       "    </tr>\n",
       "    <tr>\n",
       "      <th>27800</th>\n",
       "      <td>Karbonn Titanium Wind W4 (White) Karbonn Titan...</td>\n",
       "      <td>0</td>\n",
       "      <td>0</td>\n",
       "      <td>1</td>\n",
       "      <td>0</td>\n",
       "    </tr>\n",
       "    <tr>\n",
       "      <th>27801</th>\n",
       "      <td>Nokia Lumia 530 (Dual SIM, Grey) Colour:Grey  ...</td>\n",
       "      <td>0</td>\n",
       "      <td>0</td>\n",
       "      <td>1</td>\n",
       "      <td>0</td>\n",
       "    </tr>\n",
       "  </tbody>\n",
       "</table>\n",
       "<p>27802 rows × 5 columns</p>\n",
       "</div>"
      ],
      "text/plain": [
       "                                             description  Books  \\\n",
       "0      Paper Plane Design Framed Wall Hanging Motivat...      0   \n",
       "1      SAF 'Floral' Framed Painting (Wood, 30 inch x ...      0   \n",
       "2      SAF 'UV Textured Modern Art Print Framed' Pain...      0   \n",
       "3      SAF Flower Print Framed Painting (Synthetic, 1...      0   \n",
       "4      Incredible Gifts India Wooden Happy Birthday U...      0   \n",
       "...                                                  ...    ...   \n",
       "27797  Micromax Bharat 5 Plus Zero impact on visual d...      0   \n",
       "27798  Microsoft Lumia 550 8GB 4G Black Microsoft lum...      0   \n",
       "27799  Microsoft Lumia 535 (Black, 8GB) Colour:Black ...      0   \n",
       "27800  Karbonn Titanium Wind W4 (White) Karbonn Titan...      0   \n",
       "27801  Nokia Lumia 530 (Dual SIM, Grey) Colour:Grey  ...      0   \n",
       "\n",
       "       Clothing & Accessories  Electronics  Household  \n",
       "0                           0            0          1  \n",
       "1                           0            0          1  \n",
       "2                           0            0          1  \n",
       "3                           0            0          1  \n",
       "4                           0            0          1  \n",
       "...                       ...          ...        ...  \n",
       "27797                       0            1          0  \n",
       "27798                       0            1          0  \n",
       "27799                       0            1          0  \n",
       "27800                       0            1          0  \n",
       "27801                       0            1          0  \n",
       "\n",
       "[27802 rows x 5 columns]"
      ]
     },
     "execution_count": 33,
     "metadata": {},
     "output_type": "execute_result"
    }
   ],
   "source": [
    "# Load the dataset\n",
    "dataset = \"../ecommerceDataset.csv\"\n",
    "data = pd.read_csv(dataset, names=[\"label\", \"description\"])\n",
    "data = data[[\"description\", \"label\"]]\n",
    "\n",
    "# Clean the data - drop duplicates and missing values\n",
    "data.dropna(inplace=True)\n",
    "data.drop_duplicates(inplace=True)\n",
    "data.reset_index(drop=True, inplace=True)\n",
    "\n",
    "# One hot encoding\n",
    "ohe = pd.get_dummies(data[\"label\"])\n",
    "data = pd.concat([data[\"description\"], ohe], axis=1)\n",
    "\n",
    "data"
   ]
  },
  {
   "cell_type": "code",
   "execution_count": 34,
   "metadata": {},
   "outputs": [
    {
     "name": "stdout",
     "output_type": "stream",
     "text": [
      "['paper', 'plane', 'design', 'framed', 'wall', 'hanging', 'motivational', 'office', 'decor', 'art', 'prints', 'x', 'inch', 'set', 'painting', 'made', 'synthetic', 'frame', 'uv', 'textured', 'print', 'gives', 'multi', 'effects', 'attracts', 'towards', 'special', 'series', 'paintings', 'makes', 'wall', 'beautiful', 'gives', 'royal', 'touch', 'painting', 'ready', 'hang', 'would', 'proud', 'possess', 'unique', 'painting', 'niche', 'apart', 'use', 'modern', 'efficient', 'printing', 'technology', 'prints', 'inks', 'precision', 'epson', 'roland', 'hp', 'printers', 'innovative', 'hd', 'printing', 'technique', 'results', 'durable', 'spectacular', 'looking', 'prints', 'highest', 'last', 'lifetime', 'print', 'solely', 'topnotch', 'inks', 'achieve', 'brilliant', 'true', 'colours', 'due', 'high', 'level', 'uv', 'resistance', 'prints', 'retain', 'beautiful', 'colours', 'many', 'years', 'add', 'colour', 'style', 'living', 'space', 'digitally', 'printed', 'painting', 'pleasure', 'eternal', 'blissso', 'bring', 'home', 'elegant', 'print', 'lushed', 'rich', 'colors', 'makes', 'nothing', 'sheer', 'elegance', 'friends', 'familyit', 'would', 'treasured', 'forever', 'whoever', 'lucky', 'recipient', 'liven', 'place', 'intriguing', 'paintings', 'high', 'definition', 'hd', 'graphic', 'digital', 'prints', 'home', 'office', 'room']\n"
     ]
    }
   ],
   "source": [
    "# Text normalization\n",
    "lines = data['description'].values.tolist()\n",
    "ecommerce_sentences = text_normalization(lines)\n",
    "print(ecommerce_sentences[0])"
   ]
  },
  {
   "cell_type": "code",
   "execution_count": 35,
   "metadata": {},
   "outputs": [
    {
     "name": "stdout",
     "output_type": "stream",
     "text": [
      "Found 78711 unique tokens.\n",
      "Shape of review tensor: (27802, 1000)\n",
      "Shape of urgency tensor: (27802, 4)\n"
     ]
    },
    {
     "data": {
      "text/plain": [
       "array([    0,     0,     0,     0,     0,     0,     0,     0,     0,\n",
       "           0,     0,     0,     0,     0,     0,     0,     0,     0,\n",
       "           0,     0,     0,     0,     0,     0,     0,     0,     0,\n",
       "           0,     0,     0,     0,     0,     0,     0,     0,     0,\n",
       "           0,     0,     0,     0,     0,     0,     0,     0,     0,\n",
       "           0,     0,     0,     0,     0,     0,     0,     0,     0,\n",
       "           0,     0,     0,     0,     0,     0,     0,     0,     0,\n",
       "           0,     0,     0,     0,     0,     0,     0,     0,     0,\n",
       "           0,     0,     0,     0,     0,     0,     0,     0,     0,\n",
       "           0,     0,     0,     0,     0,     0,     0,     0,     0,\n",
       "           0,     0,     0,     0,     0,     0,     0,     0,     0,\n",
       "           0,     0,     0,     0,     0,     0,     0,     0,     0,\n",
       "           0,     0,     0,     0,     0,     0,     0,     0,     0,\n",
       "           0,     0,     0,     0,     0,     0,     0,     0,     0,\n",
       "           0,     0,     0,     0,     0,     0,     0,     0,     0,\n",
       "           0,     0,     0,     0,     0,     0,     0,     0,     0,\n",
       "           0,     0,     0,     0,     0,     0,     0,     0,     0,\n",
       "           0,     0,     0,     0,     0,     0,     0,     0,     0,\n",
       "           0,     0,     0,     0,     0,     0,     0,     0,     0,\n",
       "           0,     0,     0,     0,     0,     0,     0,     0,     0,\n",
       "           0,     0,     0,     0,     0,     0,     0,     0,     0,\n",
       "           0,     0,     0,     0,     0,     0,     0,     0,     0,\n",
       "           0,     0,     0,     0,     0,     0,     0,     0,     0,\n",
       "           0,     0,     0,     0,     0,     0,     0,     0,     0,\n",
       "           0,     0,     0,     0,     0,     0,     0,     0,     0,\n",
       "           0,     0,     0,     0,     0,     0,     0,     0,     0,\n",
       "           0,     0,     0,     0,     0,     0,     0,     0,     0,\n",
       "           0,     0,     0,     0,     0,     0,     0,     0,     0,\n",
       "           0,     0,     0,     0,     0,     0,     0,     0,     0,\n",
       "           0,     0,     0,     0,     0,     0,     0,     0,     0,\n",
       "           0,     0,     0,     0,     0,     0,     0,     0,     0,\n",
       "           0,     0,     0,     0,     0,     0,     0,     0,     0,\n",
       "           0,     0,     0,     0,     0,     0,     0,     0,     0,\n",
       "           0,     0,     0,     0,     0,     0,     0,     0,     0,\n",
       "           0,     0,     0,     0,     0,     0,     0,     0,     0,\n",
       "           0,     0,     0,     0,     0,     0,     0,     0,     0,\n",
       "           0,     0,     0,     0,     0,     0,     0,     0,     0,\n",
       "           0,     0,     0,     0,     0,     0,     0,     0,     0,\n",
       "           0,     0,     0,     0,     0,     0,     0,     0,     0,\n",
       "           0,     0,     0,     0,     0,     0,     0,     0,     0,\n",
       "           0,     0,     0,     0,     0,     0,     0,     0,     0,\n",
       "           0,     0,     0,     0,     0,     0,     0,     0,     0,\n",
       "           0,     0,     0,     0,     0,     0,     0,     0,     0,\n",
       "           0,     0,     0,     0,     0,     0,     0,     0,     0,\n",
       "           0,     0,     0,     0,     0,     0,     0,     0,     0,\n",
       "           0,     0,     0,     0,     0,     0,     0,     0,     0,\n",
       "           0,     0,     0,     0,     0,     0,     0,     0,     0,\n",
       "           0,     0,     0,     0,     0,     0,     0,     0,     0,\n",
       "           0,     0,     0,     0,     0,     0,     0,     0,     0,\n",
       "           0,     0,     0,     0,     0,     0,     0,     0,     0,\n",
       "           0,     0,     0,     0,     0,     0,     0,     0,     0,\n",
       "           0,     0,     0,     0,     0,     0,     0,     0,     0,\n",
       "           0,     0,     0,     0,     0,     0,     0,     0,     0,\n",
       "           0,     0,     0,     0,     0,     0,     0,     0,     0,\n",
       "           0,     0,     0,     0,     0,     0,     0,     0,     0,\n",
       "           0,     0,     0,     0,     0,     0,     0,     0,     0,\n",
       "           0,     0,     0,     0,     0,     0,     0,     0,     0,\n",
       "           0,     0,     0,     0,     0,     0,     0,     0,     0,\n",
       "           0,     0,     0,     0,     0,     0,     0,     0,     0,\n",
       "           0,     0,     0,     0,     0,     0,     0,     0,     0,\n",
       "           0,     0,     0,     0,     0,     0,     0,     0,     0,\n",
       "           0,     0,     0,     0,     0,     0,     0,     0,     0,\n",
       "           0,     0,     0,     0,     0,     0,     0,     0,     0,\n",
       "           0,     0,     0,     0,     0,     0,     0,     0,     0,\n",
       "           0,     0,     0,     0,     0,     0,     0,     0,     0,\n",
       "           0,     0,     0,     0,     0,     0,     0,     0,     0,\n",
       "           0,     0,     0,     0,     0,     0,     0,     0,     0,\n",
       "           0,     0,     0,     0,     0,     0,     0,     0,     0,\n",
       "           0,     0,     0,     0,     0,     0,     0,     0,     0,\n",
       "           0,     0,     0,     0,     0,     0,     0,     0,     0,\n",
       "           0,     0,     0,     0,     0,     0,     0,     0,     0,\n",
       "           0,     0,     0,     0,     0,     0,     0,     0,     0,\n",
       "           0,     0,     0,     0,     0,     0,     0,     0,     0,\n",
       "           0,     0,     0,     0,     0,     0,     0,     0,     0,\n",
       "           0,     0,     0,     0,     0,     0,     0,     0,     0,\n",
       "           0,     0,     0,     0,     0,     0,     0,     0,     0,\n",
       "           0,     0,     0,     0,     0,     0,     0,     0,     0,\n",
       "           0,     0,     0,     0,     0,     0,     0,     0,     0,\n",
       "           0,     0,     0,     0,     0,     0,     0,     0,     0,\n",
       "           0,     0,     0,     0,     0,     0,     0,     0,     0,\n",
       "           0,     0,     0,     0,     0,     0,     0,     0,     0,\n",
       "           0,     0,     0,     0,     0,     0,     0,     0,     0,\n",
       "           0,     0,     0,     0,     0,     0,     0,     0,     0,\n",
       "           0,     0,     0,     0,     0,     0,     0,     0,     0,\n",
       "           0,     0,     0,     0,     0,     0,     0,     0,     0,\n",
       "           0,     0,     0,     0,     0,     0,     0,     0,     0,\n",
       "           0,     0,     0,     0,     0,     0,     0,     0,     0,\n",
       "           0,     0,     0,     0,     0,     0,     0,     0,     0,\n",
       "           0,     0,     0,     0,     0,     0,     0,     0,     0,\n",
       "           0,     0,     0,     0,     0,     0,     0,     0,     0,\n",
       "           0,     0,     0,     0,     0,     0,     0,     0,     0,\n",
       "           0,     0,     0,     0,     0,     0,     0,     0,     0,\n",
       "           0,     0,     0,     0,     0,     0,     0,     0,     0,\n",
       "           0,     0,     0,     0,     0,     0,     0,     0,     0,\n",
       "           0,     0,     0,     0,     0,     0,     0,     0,     0,\n",
       "           0,     0,     0,     0,     0,     0,     0,     0,     0,\n",
       "           0,     0,     0,     0,     0,     0,     0,     0,     0,\n",
       "           0,     0,     0,     0,     0,     0,     0,     0,     0,\n",
       "           0,     0,     0,     0,     0,     0,     0,     0,     0,\n",
       "           0,     0,     0,     0,     0,     0,     0,     0,     0,\n",
       "           0,     0,     0,     0,     0,     0,     0,     0,     0,\n",
       "           0,     0,     0,     0,     0, 20419, 40429, 12746, 40430,\n",
       "         276,   989,  1477,   247,    19,   446,  8572,  4936,   294,\n",
       "       12746,   335,  4019, 40431,  7059, 40432, 40433,   687,    24,\n",
       "          17,   500,    19,     6,    24,   345,  3194,    71,   284,\n",
       "          45,    30, 12746,  3433,   335,    36,   516,   247,    19,\n",
       "         446,  1280,   294,   588,   306,   151, 11484,  1306,    21,\n",
       "         846,   217,   294,  1477,   247,    19,   446,    45,   721,\n",
       "         916,  3490,  5871,   148,  1317,   167, 12746,  3707,   677,\n",
       "         122, 12746,   267,   182,  1736,  1799,     3,   688,   528,\n",
       "         171,  1020,   667,     3,  2012,  3549,   655,   244,  1008,\n",
       "        1772], dtype=int32)"
      ]
     },
     "execution_count": 35,
     "metadata": {},
     "output_type": "execute_result"
    }
   ],
   "source": [
    "VALIDATION_SPLIT = 0.20\n",
    "max_length = 1000\n",
    "\n",
    "# vectorize the text samples into a 2D integer tensor\n",
    "tokenizer_obj = Tokenizer() \n",
    "tokenizer_obj.fit_on_texts(ecommerce_sentences)\n",
    "ecommerce_sequences = tokenizer_obj.texts_to_sequences(ecommerce_sentences)\n",
    "\n",
    "# pad sequences\n",
    "word_index = tokenizer_obj.word_index\n",
    "print('Found %s unique tokens.' % len(word_index))\n",
    "\n",
    "review_pad = pad_sequences(ecommerce_sequences, maxlen=max_length)\n",
    "\n",
    "urgency = np.array((data['Books'].values, data['Clothing & Accessories'].values, data['Electronics'].values, data['Household'].values)).T\n",
    "print('Shape of review tensor:', review_pad.shape)\n",
    "print('Shape of urgency tensor:', urgency.shape)\n",
    "\n",
    "# split the data into a training set and a validation set\n",
    "indices = np.arange(review_pad.shape[0])\n",
    "np.random.shuffle(indices)\n",
    "review_pad = review_pad[indices]\n",
    "urgency = urgency[indices]\n",
    "num_validation_samples = int(VALIDATION_SPLIT * review_pad.shape[0])\n",
    "\n",
    "\n",
    "X_train_pad = review_pad[:-num_validation_samples]\n",
    "y_train = urgency[:-num_validation_samples]\n",
    "X_test_pad = review_pad[-num_validation_samples:]\n",
    "y_test = urgency[-num_validation_samples:]\n",
    "\n",
    "X_train_pad[0]"
   ]
  },
  {
   "cell_type": "code",
   "execution_count": 36,
   "metadata": {},
   "outputs": [],
   "source": [
    "#set up embedding matrix\n",
    "EMBEDDING_DIM = 50\n",
    "num_words = len(word_index) + 1\n",
    "embedding_matrix = np.zeros((num_words, EMBEDDING_DIM))\n",
    "\n",
    "for word, i in word_index.items():\n",
    "    if i > num_words:\n",
    "        continue\n",
    "    embedding_vector = embeddings_dict.get(word)\n",
    "  \n",
    "    if embedding_vector is not None:\n",
    "        # words not found in embedding index will be all-zeros.\n",
    "        embedding_matrix[i] = embedding_vector\n"
   ]
  },
  {
   "cell_type": "code",
   "execution_count": 38,
   "metadata": {},
   "outputs": [
    {
     "name": "stdout",
     "output_type": "stream",
     "text": [
      "Summary of the built model...\n",
      "Model: \"sequential_3\"\n",
      "_________________________________________________________________\n",
      " Layer (type)                Output Shape              Param #   \n",
      "=================================================================\n",
      " embedding_3 (Embedding)     (None, 1000, 50)          3935600   \n",
      "                                                                 \n",
      " lstm_3 (LSTM)               (None, 32)                10624     \n",
      "                                                                 \n",
      " dense_3 (Dense)             (None, 4)                 132       \n",
      "                                                                 \n",
      "=================================================================\n",
      "Total params: 3,946,356\n",
      "Trainable params: 10,756\n",
      "Non-trainable params: 3,935,600\n",
      "_________________________________________________________________\n",
      "None\n",
      "Epoch 1/40\n",
      "223/223 - 172s - loss: 0.6007 - accuracy: 0.8008 - val_loss: 0.3707 - val_accuracy: 0.8969 - 172s/epoch - 769ms/step\n",
      "Epoch 2/40\n",
      "223/223 - 180s - loss: 0.3684 - accuracy: 0.8915 - val_loss: 0.3346 - val_accuracy: 0.9095 - 180s/epoch - 807ms/step\n",
      "Epoch 3/40\n",
      "223/223 - 197s - loss: 0.3389 - accuracy: 0.9018 - val_loss: 0.3253 - val_accuracy: 0.9101 - 197s/epoch - 884ms/step\n",
      "Epoch 4/40\n",
      "223/223 - 175s - loss: 0.3306 - accuracy: 0.9028 - val_loss: 0.3137 - val_accuracy: 0.9155 - 175s/epoch - 783ms/step\n",
      "Epoch 5/40\n",
      "223/223 - 169s - loss: 0.3127 - accuracy: 0.9077 - val_loss: 0.3195 - val_accuracy: 0.9095 - 169s/epoch - 760ms/step\n",
      "Epoch 6/40\n",
      "223/223 - 169s - loss: 0.2993 - accuracy: 0.9118 - val_loss: 0.2986 - val_accuracy: 0.9203 - 169s/epoch - 757ms/step\n",
      "Epoch 7/40\n",
      "223/223 - 170s - loss: 0.2862 - accuracy: 0.9154 - val_loss: 0.2930 - val_accuracy: 0.9169 - 170s/epoch - 761ms/step\n",
      "Epoch 8/40\n",
      "223/223 - 168s - loss: 0.2728 - accuracy: 0.9211 - val_loss: 0.2851 - val_accuracy: 0.9225 - 168s/epoch - 753ms/step\n",
      "Epoch 9/40\n",
      "223/223 - 168s - loss: 0.2701 - accuracy: 0.9213 - val_loss: 0.2786 - val_accuracy: 0.9236 - 168s/epoch - 755ms/step\n",
      "Epoch 10/40\n",
      "223/223 - 168s - loss: 0.2580 - accuracy: 0.9248 - val_loss: 0.2724 - val_accuracy: 0.9257 - 168s/epoch - 753ms/step\n",
      "Epoch 11/40\n",
      "223/223 - 169s - loss: 0.2513 - accuracy: 0.9272 - val_loss: 0.2703 - val_accuracy: 0.9272 - 169s/epoch - 757ms/step\n",
      "Epoch 12/40\n",
      "223/223 - 168s - loss: 0.2462 - accuracy: 0.9279 - val_loss: 0.2658 - val_accuracy: 0.9263 - 168s/epoch - 754ms/step\n",
      "Epoch 13/40\n",
      "223/223 - 168s - loss: 0.2381 - accuracy: 0.9303 - val_loss: 0.2627 - val_accuracy: 0.9290 - 168s/epoch - 753ms/step\n",
      "Epoch 14/40\n",
      "223/223 - 168s - loss: 0.2317 - accuracy: 0.9315 - val_loss: 0.2568 - val_accuracy: 0.9291 - 168s/epoch - 756ms/step\n",
      "Epoch 15/40\n",
      "223/223 - 173s - loss: 0.2695 - accuracy: 0.9174 - val_loss: 0.2890 - val_accuracy: 0.9210 - 173s/epoch - 775ms/step\n",
      "Epoch 16/40\n",
      "223/223 - 168s - loss: 0.2520 - accuracy: 0.9255 - val_loss: 0.2662 - val_accuracy: 0.9277 - 168s/epoch - 753ms/step\n",
      "Epoch 17/40\n",
      "223/223 - 168s - loss: 0.2370 - accuracy: 0.9290 - val_loss: 0.2642 - val_accuracy: 0.9270 - 168s/epoch - 754ms/step\n",
      "Epoch 18/40\n",
      "223/223 - 165s - loss: 0.2256 - accuracy: 0.9330 - val_loss: 0.2573 - val_accuracy: 0.9293 - 165s/epoch - 740ms/step\n",
      "Epoch 19/40\n",
      "223/223 - 168s - loss: 0.2197 - accuracy: 0.9359 - val_loss: 0.2576 - val_accuracy: 0.9297 - 168s/epoch - 755ms/step\n",
      "Epoch 20/40\n",
      "223/223 - 169s - loss: 0.2156 - accuracy: 0.9359 - val_loss: 0.2538 - val_accuracy: 0.9300 - 169s/epoch - 758ms/step\n",
      "Epoch 21/40\n",
      "223/223 - 169s - loss: 0.2113 - accuracy: 0.9375 - val_loss: 0.2542 - val_accuracy: 0.9317 - 169s/epoch - 759ms/step\n",
      "Epoch 22/40\n",
      "223/223 - 169s - loss: 0.2079 - accuracy: 0.9381 - val_loss: 0.2529 - val_accuracy: 0.9313 - 169s/epoch - 757ms/step\n",
      "Epoch 23/40\n",
      "223/223 - 168s - loss: 0.2043 - accuracy: 0.9393 - val_loss: 0.2467 - val_accuracy: 0.9311 - 168s/epoch - 755ms/step\n",
      "Epoch 24/40\n",
      "223/223 - 168s - loss: 0.2012 - accuracy: 0.9410 - val_loss: 0.2423 - val_accuracy: 0.9349 - 168s/epoch - 754ms/step\n",
      "Epoch 25/40\n",
      "223/223 - 169s - loss: 0.1992 - accuracy: 0.9413 - val_loss: 0.2422 - val_accuracy: 0.9336 - 169s/epoch - 759ms/step\n",
      "Epoch 26/40\n",
      "223/223 - 172s - loss: 0.1957 - accuracy: 0.9414 - val_loss: 0.2519 - val_accuracy: 0.9324 - 172s/epoch - 770ms/step\n",
      "Epoch 27/40\n",
      "223/223 - 168s - loss: 0.1888 - accuracy: 0.9449 - val_loss: 0.2382 - val_accuracy: 0.9358 - 168s/epoch - 753ms/step\n",
      "Epoch 28/40\n",
      "223/223 - 168s - loss: 0.1906 - accuracy: 0.9436 - val_loss: 0.2413 - val_accuracy: 0.9345 - 168s/epoch - 753ms/step\n",
      "Epoch 29/40\n",
      "223/223 - 169s - loss: 0.1989 - accuracy: 0.9423 - val_loss: 0.2420 - val_accuracy: 0.9367 - 169s/epoch - 756ms/step\n",
      "Epoch 30/40\n",
      "223/223 - 174s - loss: 0.1913 - accuracy: 0.9421 - val_loss: 0.2403 - val_accuracy: 0.9372 - 174s/epoch - 780ms/step\n",
      "Epoch 31/40\n",
      "223/223 - 164s - loss: 0.1860 - accuracy: 0.9442 - val_loss: 0.2366 - val_accuracy: 0.9378 - 164s/epoch - 735ms/step\n",
      "Epoch 32/40\n",
      "223/223 - 165s - loss: 0.1803 - accuracy: 0.9463 - val_loss: 0.2392 - val_accuracy: 0.9372 - 165s/epoch - 738ms/step\n",
      "Epoch 33/40\n",
      "223/223 - 164s - loss: 0.1797 - accuracy: 0.9469 - val_loss: 0.2379 - val_accuracy: 0.9358 - 164s/epoch - 735ms/step\n",
      "Epoch 34/40\n",
      "223/223 - 164s - loss: 0.1778 - accuracy: 0.9475 - val_loss: 0.2375 - val_accuracy: 0.9362 - 164s/epoch - 735ms/step\n",
      "Epoch 35/40\n",
      "223/223 - 167s - loss: 0.1750 - accuracy: 0.9482 - val_loss: 0.2371 - val_accuracy: 0.9362 - 167s/epoch - 747ms/step\n",
      "Epoch 36/40\n",
      "223/223 - 169s - loss: 0.1713 - accuracy: 0.9494 - val_loss: 0.2351 - val_accuracy: 0.9379 - 169s/epoch - 756ms/step\n",
      "Epoch 37/40\n",
      "223/223 - 165s - loss: 0.1717 - accuracy: 0.9495 - val_loss: 0.2393 - val_accuracy: 0.9362 - 165s/epoch - 739ms/step\n",
      "Epoch 38/40\n",
      "223/223 - 167s - loss: 0.1701 - accuracy: 0.9501 - val_loss: 0.2314 - val_accuracy: 0.9392 - 167s/epoch - 751ms/step\n",
      "Epoch 39/40\n",
      "223/223 - 169s - loss: 0.1690 - accuracy: 0.9479 - val_loss: 0.2336 - val_accuracy: 0.9396 - 169s/epoch - 756ms/step\n",
      "Epoch 40/40\n",
      "223/223 - 167s - loss: 0.1651 - accuracy: 0.9515 - val_loss: 0.2336 - val_accuracy: 0.9387 - 167s/epoch - 748ms/step\n"
     ]
    }
   ],
   "source": [
    "# define model\n",
    "ecommerce_model = Sequential()\n",
    "embedding_layer = Embedding(num_words,\n",
    "                            EMBEDDING_DIM,\n",
    "                            embeddings_initializer=Constant(embedding_matrix),\n",
    "                            input_length=max_length,\n",
    "                            trainable=False)\n",
    "ecommerce_model.add(embedding_layer)\n",
    "ecommerce_model.add(LSTM(units=32,  dropout=0.2, recurrent_dropout=0.2))\n",
    "ecommerce_model.add(Dense(4, activation='softmax'))\n",
    "\n",
    "# try using different optimizers and different optimizer configs\n",
    "ecommerce_model.compile(loss='categorical_crossentropy', optimizer='adam', metrics=['accuracy'])\n",
    "\n",
    "print('Summary of the built model...')\n",
    "print(ecommerce_model.summary())\n",
    "\n",
    "# fit the model\n",
    "history = ecommerce_model.fit(X_train_pad, y_train, batch_size=100, epochs=40, validation_data=(X_test_pad, y_test), verbose=2)\n"
   ]
  },
  {
   "cell_type": "code",
   "execution_count": 39,
   "metadata": {},
   "outputs": [
    {
     "name": "stdout",
     "output_type": "stream",
     "text": [
      "INFO:tensorflow:Assets written to: ecommerce_model/assets\n"
     ]
    }
   ],
   "source": [
    "ecommerce_model.save('ecommerce_model')"
   ]
  },
  {
   "cell_type": "code",
   "execution_count": 40,
   "metadata": {},
   "outputs": [
    {
     "data": {
      "image/png": "[encoded data removed]",
      "text/plain": [
       "<Figure size 640x480 with 1 Axes>"
      ]
     },
     "metadata": {},
     "output_type": "display_data"
    },
    {
     "data": {
      "image/png": "[encoded data removed]",
      "text/plain": [
       "<Figure size 640x480 with 1 Axes>"
      ]
     },
     "metadata": {},
     "output_type": "display_data"
    }
   ],
   "source": [
    "# summarize history for accuracy\n",
    "plt.plot(history.history['accuracy'])\n",
    "plt.plot(history.history['val_accuracy'])\n",
    "plt.title('model accuracy')\n",
    "plt.ylabel('accuracy')\n",
    "plt.xlabel('epoch')\n",
    "plt.legend(['train', 'test'], loc='upper left')\n",
    "plt.show()\n",
    "# summarize history for loss\n",
    "plt.plot(history.history['loss'])\n",
    "plt.plot(history.history['val_loss'])\n",
    "plt.title('model loss')\n",
    "plt.ylabel('loss')\n",
    "plt.xlabel('epoch')\n",
    "plt.legend(['train', 'test'], loc='upper left')\n",
    "plt.show()"
   ]
  },
  {
   "cell_type": "code",
   "execution_count": 45,
   "metadata": {},
   "outputs": [
    {
     "name": "stdout",
     "output_type": "stream",
     "text": [
      "1/1 [==============================] - 0s 70ms/step\n",
      "Sentence being analyzed by the model:  Dominate on a different scale with the Razer Huntsman Mini TKL — a 60% gaming keyboard with cutting-edge Razer Clicky Optical Switches. Highly portable and ideal for streamlined setups, it’s time to experience lightning-fast actuation in our most compact form factor yet.\n",
      "Prediction: Electronics with probability 98.27784895896912%\n"
     ]
    }
   ],
   "source": [
    "# test = \"Table Lamp with Pull Chain: The USB Bedside Table Lamp comes with a stylish pull chain to control the lamp, you can easy to turn on or turn off the light by pulling the chain, even in the darkness.\"\n",
    "# test = \"A workwear staple, this men's pocket t-shirt is equal parts durable and comfortable. It has an original fit, Carhartt's roomiest cut. The heavyweight fabric only gets softer with time.\"\n",
    "# test = \"NEW YORK TIMES BESTSELLER • The epic tale of a woman who breathes a fantastical empire into existence, only to be consumed by it over the centuries—from the transcendent imagination of Booker Prize–winning, internationally bestselling author Salman Rushdie\"\n",
    "test = \"Dominate on a different scale with the Razer Huntsman Mini TKL — a 60% gaming keyboard with cutting-edge Razer Clicky Optical Switches. Highly portable and ideal for streamlined setups, it’s time to experience lightning-fast actuation in our most compact form factor yet.\"\n",
    "\n",
    "tokens = word_tokenize(test)\n",
    "# convert to lower case\n",
    "tokens = [w.lower() for w in tokens]\n",
    "# remove punctuation from each word    \n",
    "table = str.maketrans('', '', string.punctuation)\n",
    "stripped = [w.translate(table) for w in tokens]\n",
    "# remove remaining tokens that are not alphabetic\n",
    "words = [word for word in stripped if word.isalpha()]\n",
    "# filter out stop words    \n",
    "stop_words = set(stopwords.words('english'))\n",
    "words = [w for w in words if not w in stop_words]\n",
    "\n",
    "\n",
    "sequences = tokenizer_obj.texts_to_sequences([words])\n",
    "\n",
    "\n",
    "review_pad = pad_sequences(sequences, maxlen=max_length)\n",
    "\n",
    "encoding = [\"Books\", \"Clothing & Accessories\", \"Electronics\", \"Household\"]\n",
    "probabilities = ecommerce_model.predict(review_pad)\n",
    "prediction = np.argmax(probabilities)\n",
    "\n",
    "print('Sentence being analyzed by the model: ', test)\n",
    "print(f'Prediction: {encoding[prediction]} with probability {probabilities[0][prediction] * 100}%')"
   ]
  },
  {
   "cell_type": "code",
   "execution_count": null,
   "metadata": {},
   "outputs": [],
   "source": []
  }
 ],
 "metadata": {
  "colab": {
   "collapsed_sections": [],
   "name": "glove_lstm.ipynb",
   "provenance": []
  },
  "kernelspec": {
   "display_name": "Python 3 (ipykernel)",
   "language": "python",
   "name": "python3"
  },
  "language_info": {
   "codemirror_mode": {
    "name": "ipython",
    "version": 3
   },
   "file_extension": ".py",
   "mimetype": "text/x-python",
   "name": "python",
   "nbconvert_exporter": "python",
   "pygments_lexer": "ipython3",
   "version": "3.10.9"
  }
 },
 "nbformat": 4,
 "nbformat_minor": 1
}
