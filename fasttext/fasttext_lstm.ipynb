{
 "cells": [
  {
   "cell_type": "code",
   "execution_count": 2,
   "metadata": {
    "colab": {
     "base_uri": "https://localhost:8080/",
     "height": 1000
    },
    "executionInfo": {
     "elapsed": 1907,
     "status": "ok",
     "timestamp": 1613605393717,
     "user": {
      "displayName": "Swetha Rajkumar",
      "photoUrl": "https://lh3.googleusercontent.com/a-/AOh14GiHAVRV5X5lLATaTDxxaaYHlcXAxJNYDgOkcuaG=s64",
      "userId": "03328740575829288505"
     },
     "user_tz": 480
    },
    "id": "Z4nKECq8K2dE",
    "outputId": "94a7cc9b-cd78-4e40-b1de-3b5dbb3fc5d7"
   },
   "outputs": [
    {
     "data": {
      "text/html": [
       "<div>\n",
       "<style scoped>\n",
       "    .dataframe tbody tr th:only-of-type {\n",
       "        vertical-align: middle;\n",
       "    }\n",
       "\n",
       "    .dataframe tbody tr th {\n",
       "        vertical-align: top;\n",
       "    }\n",
       "\n",
       "    .dataframe thead th {\n",
       "        text-align: right;\n",
       "    }\n",
       "</style>\n",
       "<table border=\"1\" class=\"dataframe\">\n",
       "  <thead>\n",
       "    <tr style=\"text-align: right;\">\n",
       "      <th></th>\n",
       "      <th>Sentence</th>\n",
       "      <th>Label</th>\n",
       "    </tr>\n",
       "  </thead>\n",
       "  <tbody>\n",
       "    <tr>\n",
       "      <th>0</th>\n",
       "      <td>As of today 60 people went missing on the park</td>\n",
       "      <td>critical</td>\n",
       "    </tr>\n",
       "    <tr>\n",
       "      <th>1</th>\n",
       "      <td>The biker was injured on the street and now is...</td>\n",
       "      <td>critical</td>\n",
       "    </tr>\n",
       "    <tr>\n",
       "      <th>2</th>\n",
       "      <td>The president has been kidnapped by terrorists</td>\n",
       "      <td>critical</td>\n",
       "    </tr>\n",
       "    <tr>\n",
       "      <th>3</th>\n",
       "      <td>People in Louisiana are in dire need of food a...</td>\n",
       "      <td>critical</td>\n",
       "    </tr>\n",
       "    <tr>\n",
       "      <th>4</th>\n",
       "      <td>Five cars were hit and are now stranded beneat...</td>\n",
       "      <td>critical</td>\n",
       "    </tr>\n",
       "  </tbody>\n",
       "</table>\n",
       "</div>"
      ],
      "text/plain": [
       "                                            Sentence     Label\n",
       "0     As of today 60 people went missing on the park  critical\n",
       "1  The biker was injured on the street and now is...  critical\n",
       "2    The president has been kidnapped by terrorists   critical\n",
       "3  People in Louisiana are in dire need of food a...  critical\n",
       "4  Five cars were hit and are now stranded beneat...  critical"
      ]
     },
     "execution_count": 2,
     "metadata": {},
     "output_type": "execute_result"
    }
   ],
   "source": [
    "# read the csv data in the google sheets and gather all of the sentences  \n",
    "import pandas as pd\n",
    "\n",
    "\n",
    "dataset = pd.read_csv(\"../UrgencySentenceSamples.csv\", encoding=\"utf-8\") \n",
    "dataset.head(5)"
   ]
  },
  {
   "cell_type": "code",
   "execution_count": 10,
   "metadata": {
    "colab": {
     "base_uri": "https://localhost:8080/"
    },
    "executionInfo": {
     "elapsed": 2161,
     "status": "ok",
     "timestamp": 1613605399363,
     "user": {
      "displayName": "Swetha Rajkumar",
      "photoUrl": "https://lh3.googleusercontent.com/a-/AOh14GiHAVRV5X5lLATaTDxxaaYHlcXAxJNYDgOkcuaG=s64",
      "userId": "03328740575829288505"
     },
     "user_tz": 480
    },
    "id": "ec-i0cLdV9iO",
    "outputId": "65e8deea-f239-4bab-af2e-1423a615a7a8"
   },
   "outputs": [
    {
     "name": "stdout",
     "output_type": "stream",
     "text": [
      "[['today', '60', 'people', 'went', 'missing', 'park'], ['biker', 'injured', 'street', 'critical', 'need', 'medical', 'attention'], ['president', 'kidnapped', 'terrorist'], ['people', 'louisiana', 'dire', 'need', 'food', 'hurricane', 'destroyed', 'home'], ['five', 'car', 'hit', 'stranded', 'beneath', 'cliff'], ['must', 'immediately', 'stop', 'dog', 'attacking', 'child'], ['brother', 'critical', 'condition', 'injury'], ['eat', 'food', 'next', 'day', 'die'], ['son', 'lost', 'need', 'find', 'urgently'], ['need', 'help', 'someone', 'kindapped', 'father'], ['going', 'die', 'escape'], ['going', 'kill', 'keep', 'insisting'], ['dire', 'need', 'help'], ['son', 'stranded', 'need', 'help'], ['many', 'people', 'stranded', 'roof', 'building', 'due', 'tsunami'], ['need', 'sara', 'reply', 'text', 'soon', 'possible'], ['need', 'project', 'completed', 'evening'], ['need', 'pay', 'electricity', 'bill', 'tonight', 'loses', 'electrical', 'service'], ['need', 'pay', 'debt', 'midnight'], ['mom', 'asked', 'clean', 'room', 'today'], ['worker', 'want', 'cup', 'coffee', 'soon'], ['teacher', 'want', 'joe', 'stop', 'sometime', 'noon', 'pick', 'textbook'], ['leave', 'soon', 'business', 'conference', 'california'], ['theater', 'closed', 'immediately', 'reopen', 'till', 'next', 'week'], ['need', 'complete', 'assignment', 'soon', 'possible'], ['going', 'miss', 'flight', 'dont', 'get', 'ready', 'soon'], ['need', 'turn', 'assignment'], ['really', 'need', 'help', 'assignment'], ['get', 'food', 'starving', 'man'], ['would', 'like', 'popcorn', 'movie'], ['scheduled', 'appointment', 'dentist', 'regular', 'checkup'], ['sarah', 'kid', 'would', 'like', 'dog'], ['last', 'priority', 'watching', 'tv'], ['shop', 'owner', 'said', 'would', 'like', 'customer', 'fill', 'optional', 'survey'], ['want', 'come', 'later', 'watch', 'movie'], ['friend'], ['game', 'last', 'night', 'exciting'], ['congratulation', 'getting', 'married'], ['friend', 'seems', 'like', 'nice', 'person'], ['dont', 'anything'], ['going', 'vacation', 'next', 'month'], ['next', 'week', 'uncle', 'come', 'visit'], ['hope', 'fun', 'trip'], ['tomorrow', 'start', 'school']]\n"
     ]
    },
    {
     "name": "stderr",
     "output_type": "stream",
     "text": [
      "[nltk_data] Downloading package omw-1.4 to /Users/aszeto1/nltk_data...\n",
      "[nltk_data]   Package omw-1.4 is already up-to-date!\n",
      "[nltk_data] Downloading package stopwords to\n",
      "[nltk_data]     /Users/aszeto1/nltk_data...\n",
      "[nltk_data]   Package stopwords is already up-to-date!\n",
      "[nltk_data] Downloading package punkt to /Users/aszeto1/nltk_data...\n",
      "[nltk_data]   Package punkt is already up-to-date!\n",
      "[nltk_data] Downloading package wordnet to /Users/aszeto1/nltk_data...\n",
      "[nltk_data]   Package wordnet is already up-to-date!\n"
     ]
    }
   ],
   "source": [
    "# pre-process text \n",
    "import nltk\n",
    "nltk.download('omw-1.4')\n",
    "import re \n",
    "from nltk.corpus import stopwords\n",
    "import string\n",
    "nltk.download(\"stopwords\")\n",
    "nltk.download(\"punkt\")\n",
    "nltk.download(\"wordnet\")\n",
    "from nltk.tokenize import word_tokenize\n",
    "from nltk.stem import WordNetLemmatizer \n",
    "\n",
    "lines = dataset['Sentence'].values.tolist()\n",
    "\n",
    "# print(lines)  \n",
    "cleaned_data = []\n",
    "\n",
    "for line in lines: \n",
    "  line = line.lower()\n",
    "  line = re.sub(r'[^\\w\\s]', '', line)\n",
    "  words = word_tokenize(line) \n",
    "  cleaned_line = [word for word in words if not word in set(stopwords.words('english'))] \n",
    "  cleaned_line = [WordNetLemmatizer().lemmatize(word) for word in cleaned_line] \n",
    "  #cleaned_line_text = ' '.join([str(word) for word in cleaned_line])\n",
    "  cleaned_data.append(cleaned_line)\n",
    "  \n",
    "\n",
    "print(cleaned_data)\n"
   ]
  },
  {
   "cell_type": "code",
   "execution_count": 15,
   "metadata": {
    "colab": {
     "base_uri": "https://localhost:8080/",
     "height": 210
    },
    "executionInfo": {
     "elapsed": 326164,
     "status": "ok",
     "timestamp": 1603063893146,
     "user": {
      "displayName": "Swetha Rajkumar",
      "photoUrl": "https://lh3.googleusercontent.com/a-/AOh14GiHAVRV5X5lLATaTDxxaaYHlcXAxJNYDgOkcuaG=s64",
      "userId": "03328740575829288505"
     },
     "user_tz": 420
    },
    "id": "76Kny1hPWAAh",
    "outputId": "0507092a-4bf5-4dac-858e-2f7b23f26913"
   },
   "outputs": [
    {
     "ename": "AttributeError",
     "evalue": "The vocab attribute was removed from KeyedVector in Gensim 4.0.0.\nUse KeyedVector's .key_to_index dict, .index_to_key list, and methods .get_vecattr(key, attr) and .set_vecattr(key, attr, new_val) instead.\nSee https://github.com/RaRe-Technologies/gensim/wiki/Migrating-from-Gensim-3.x-to-4",
     "output_type": "error",
     "traceback": [
      "\u001b[0;31m---------------------------------------------------------------------------\u001b[0m",
      "\u001b[0;31mAttributeError\u001b[0m                            Traceback (most recent call last)",
      "Cell \u001b[0;32mIn[15], line 30\u001b[0m\n\u001b[1;32m     26\u001b[0m model\u001b[38;5;241m.\u001b[39mtrain(corpus_file\u001b[38;5;241m=\u001b[39mcorpus_file, total_words\u001b[38;5;241m=\u001b[39mmodel\u001b[38;5;241m.\u001b[39mcorpus_total_words, epochs\u001b[38;5;241m=\u001b[39m\u001b[38;5;241m10\u001b[39m)\n\u001b[1;32m     28\u001b[0m trained_embedding_dictionnary \u001b[38;5;241m=\u001b[39m {}\n\u001b[0;32m---> 30\u001b[0m \u001b[38;5;28;01mfor\u001b[39;00m x \u001b[38;5;129;01min\u001b[39;00m \u001b[43mmodel\u001b[49m\u001b[38;5;241;43m.\u001b[39;49m\u001b[43mwv\u001b[49m\u001b[38;5;241;43m.\u001b[39;49m\u001b[43mvocab\u001b[49m:\n\u001b[1;32m     31\u001b[0m   trained_embedding_dictionnary[x] \u001b[38;5;241m=\u001b[39m model[x]\n\u001b[1;32m     33\u001b[0m \u001b[38;5;28mprint\u001b[39m(\u001b[38;5;28mlen\u001b[39m(trained_embedding_dictionnary))\n",
      "File \u001b[0;32m~/miniconda3/envs/nasa-nlp/lib/python3.10/site-packages/gensim/models/keyedvectors.py:734\u001b[0m, in \u001b[0;36mKeyedVectors.vocab\u001b[0;34m(self)\u001b[0m\n\u001b[1;32m    732\u001b[0m \u001b[38;5;129m@property\u001b[39m\n\u001b[1;32m    733\u001b[0m \u001b[38;5;28;01mdef\u001b[39;00m \u001b[38;5;21mvocab\u001b[39m(\u001b[38;5;28mself\u001b[39m):\n\u001b[0;32m--> 734\u001b[0m     \u001b[38;5;28;01mraise\u001b[39;00m \u001b[38;5;167;01mAttributeError\u001b[39;00m(\n\u001b[1;32m    735\u001b[0m         \u001b[38;5;124m\"\u001b[39m\u001b[38;5;124mThe vocab attribute was removed from KeyedVector in Gensim 4.0.0.\u001b[39m\u001b[38;5;130;01m\\n\u001b[39;00m\u001b[38;5;124m\"\u001b[39m\n\u001b[1;32m    736\u001b[0m         \u001b[38;5;124m\"\u001b[39m\u001b[38;5;124mUse KeyedVector\u001b[39m\u001b[38;5;124m'\u001b[39m\u001b[38;5;124ms .key_to_index dict, .index_to_key list, and methods \u001b[39m\u001b[38;5;124m\"\u001b[39m\n\u001b[1;32m    737\u001b[0m         \u001b[38;5;124m\"\u001b[39m\u001b[38;5;124m.get_vecattr(key, attr) and .set_vecattr(key, attr, new_val) instead.\u001b[39m\u001b[38;5;130;01m\\n\u001b[39;00m\u001b[38;5;124m\"\u001b[39m\n\u001b[1;32m    738\u001b[0m         \u001b[38;5;124m\"\u001b[39m\u001b[38;5;124mSee https://github.com/RaRe-Technologies/gensim/wiki/Migrating-from-Gensim-3.x-to-4\u001b[39m\u001b[38;5;124m\"\u001b[39m\n\u001b[1;32m    739\u001b[0m     )\n",
      "\u001b[0;31mAttributeError\u001b[0m: The vocab attribute was removed from KeyedVector in Gensim 4.0.0.\nUse KeyedVector's .key_to_index dict, .index_to_key list, and methods .get_vecattr(key, attr) and .set_vecattr(key, attr, new_val) instead.\nSee https://github.com/RaRe-Technologies/gensim/wiki/Migrating-from-Gensim-3.x-to-4"
     ]
    }
   ],
   "source": [
    "# use fasttext and get pretrained word embeddings \n",
    "\n",
    "\"\"\"\n",
    "from gensim.models import KeyedVectors\n",
    "\n",
    "model = KeyedVectors.load_word2vec_format('wiki-news-300d-1M.vec')\n",
    "\n",
    "trained_embedding_dictionnary = {}\n",
    "\n",
    "for x in model.vocab:\n",
    "  trained_embedding_dictionnary[x] = model[x]\n",
    "\n",
    "print(len(trained_embedding_dictionnary))\n",
    "\"\"\"\n",
    "\n",
    "\n",
    "# !pip install --upgrade gensim\n",
    "from gensim.models.fasttext import FastText\n",
    "from gensim.test.utils import datapath\n",
    "\n",
    "# absolute path\n",
    "corpus_file = datapath('/Users/aszeto1/OneDrive - NASA/nasa-notam-nlp/wiki-news-300d-1M.vec')\n",
    "\n",
    "model = FastText(vector_size=60, window=10, min_count=1, sample=1e-2, sg=1)  # instantiate\n",
    "model.build_vocab(corpus_file=corpus_file)\n",
    "model.train(corpus_file=corpus_file, total_words=model.corpus_total_words, epochs=10)\n"
   ]
  },
  {
   "cell_type": "code",
   "execution_count": 17,
   "metadata": {},
   "outputs": [
    {
     "name": "stdout",
     "output_type": "stream",
     "text": [
      "1025327\n"
     ]
    }
   ],
   "source": [
    "trained_embedding_dictionnary = {}\n",
    "\n",
    "for x in model.wv.key_to_index:\n",
    "  trained_embedding_dictionnary[x] = x\n",
    "\n",
    "print(len(trained_embedding_dictionnary))"
   ]
  },
  {
   "cell_type": "code",
   "execution_count": 19,
   "metadata": {
    "colab": {
     "base_uri": "https://localhost:8080/",
     "height": 255
    },
    "executionInfo": {
     "elapsed": 1960,
     "status": "ok",
     "timestamp": 1603063993699,
     "user": {
      "displayName": "Swetha Rajkumar",
      "photoUrl": "https://lh3.googleusercontent.com/a-/AOh14GiHAVRV5X5lLATaTDxxaaYHlcXAxJNYDgOkcuaG=s64",
      "userId": "03328740575829288505"
     },
     "user_tz": 420
    },
    "id": "aoFrXEe8S6w6",
    "outputId": "1e274f09-07f6-4803-cf17-490a48b6cf38"
   },
   "outputs": [
    {
     "name": "stdout",
     "output_type": "stream",
     "text": [
      "Found 156 unique tokens.\n",
      "need\n"
     ]
    },
    {
     "ename": "ValueError",
     "evalue": "could not convert string to float: 'need'",
     "output_type": "error",
     "traceback": [
      "\u001b[0;31m---------------------------------------------------------------------------\u001b[0m",
      "\u001b[0;31mValueError\u001b[0m                                Traceback (most recent call last)",
      "Cell \u001b[0;32mIn[19], line 21\u001b[0m\n\u001b[1;32m     19\u001b[0m     \u001b[38;5;28;01mif\u001b[39;00m embedding_vector \u001b[38;5;129;01mis\u001b[39;00m \u001b[38;5;129;01mnot\u001b[39;00m \u001b[38;5;28;01mNone\u001b[39;00m:\n\u001b[1;32m     20\u001b[0m         \u001b[38;5;28mprint\u001b[39m(embedding_vector)\n\u001b[0;32m---> 21\u001b[0m         embedding_matrix[i] \u001b[38;5;241m=\u001b[39m embedding_vector\n\u001b[1;32m     23\u001b[0m \u001b[38;5;28mprint\u001b[39m(embedding_matrix)\n",
      "\u001b[0;31mValueError\u001b[0m: could not convert string to float: 'need'"
     ]
    }
   ],
   "source": [
    "# use tokenizer and get an embedding matrix that maps integer values with the word embeddings  \n",
    "from keras.preprocessing.text import Tokenizer\n",
    "from keras_preprocessing.sequence import pad_sequences\n",
    "import numpy as np\n",
    "\n",
    "tokenizer = Tokenizer()\n",
    "tokenizer.fit_on_texts(cleaned_data)\n",
    "\n",
    "word_index = tokenizer.word_index\n",
    "print('Found %s unique tokens.' % len(word_index))\n",
    "\n",
    "num_words = len(word_index) + 1\n",
    "embedding_matrix = np.zeros((num_words, 300))\n",
    "\n",
    "for word, i in word_index.items():\n",
    "    if i > num_words:\n",
    "        continue\n",
    "    embedding_vector = trained_embedding_dictionnary.get(word)\n",
    "    if embedding_vector is not None:\n",
    "        embedding_matrix[i] = embedding_vector\n",
    "\n",
    "print(embedding_matrix)"
   ]
  },
  {
   "cell_type": "code",
   "execution_count": 17,
   "metadata": {
    "colab": {
     "base_uri": "https://localhost:8080/",
     "height": 51
    },
    "executionInfo": {
     "elapsed": 711,
     "status": "ok",
     "timestamp": 1603064055138,
     "user": {
      "displayName": "Swetha Rajkumar",
      "photoUrl": "https://lh3.googleusercontent.com/a-/AOh14GiHAVRV5X5lLATaTDxxaaYHlcXAxJNYDgOkcuaG=s64",
      "userId": "03328740575829288505"
     },
     "user_tz": 420
    },
    "id": "QS-TSSsSavos",
    "outputId": "9bb114da-353d-438a-b237-46ddc15dff96"
   },
   "outputs": [
    {
     "name": "stdout",
     "output_type": "stream",
     "text": [
      "Shape of urgency tensor: (40, 100)\n",
      "Shape of label tensor: (40,)\n"
     ]
    }
   ],
   "source": [
    "#get training, validation, and testing data \n",
    "VALIDATION_SPLIT = 0.2\n",
    "sequences = tokenizer.texts_to_sequences(cleaned_data)\n",
    "\n",
    "urgency_pad = pad_sequences(sequences, maxlen=100) # to later try - base length on mean value of sentence lengths \n",
    "label =  dataset['Label'].values\n",
    "print('Shape of urgency tensor:', urgency_pad.shape)\n",
    "print('Shape of label tensor:', label.shape)\n",
    "\n",
    "indices = np.arange(urgency_pad.shape[0])\n",
    "np.random.shuffle(indices)\n",
    "urgency_pad = urgency_pad[indices]\n",
    "label = label[indices]\n",
    "num_validation_samples = int(VALIDATION_SPLIT * urgency_pad.shape[0])\n",
    "\n",
    "X_train_pad = urgency_pad[:-num_validation_samples]\n",
    "y_train = label[:-num_validation_samples]\n",
    "X_test_pad = urgency_pad[-num_validation_samples:]\n",
    "y_test = label[-num_validation_samples:]"
   ]
  },
  {
   "cell_type": "code",
   "execution_count": 25,
   "metadata": {
    "colab": {
     "base_uri": "https://localhost:8080/",
     "height": 1000
    },
    "executionInfo": {
     "elapsed": 26762,
     "status": "ok",
     "timestamp": 1603064088313,
     "user": {
      "displayName": "Swetha Rajkumar",
      "photoUrl": "https://lh3.googleusercontent.com/a-/AOh14GiHAVRV5X5lLATaTDxxaaYHlcXAxJNYDgOkcuaG=s64",
      "userId": "03328740575829288505"
     },
     "user_tz": 420
    },
    "id": "KqNsfGhuWED2",
    "outputId": "523b1256-2e61-4453-96ca-9fe0e1c8676b",
    "scrolled": false
   },
   "outputs": [
    {
     "name": "stdout",
     "output_type": "stream",
     "text": [
      "Summary of the built model...\n",
      "Model: \"sequential_10\"\n",
      "_________________________________________________________________\n",
      " Layer (type)                Output Shape              Param #   \n",
      "=================================================================\n",
      " embedding_10 (Embedding)    (None, 100, 300)          44400     \n",
      "                                                                 \n",
      " lstm_10 (LSTM)              (None, 32)                42624     \n",
      "                                                                 \n",
      " dense_10 (Dense)            (None, 1)                 33        \n",
      "                                                                 \n",
      "=================================================================\n",
      "Total params: 87,057\n",
      "Trainable params: 42,657\n",
      "Non-trainable params: 44,400\n",
      "_________________________________________________________________\n",
      "None\n",
      "Epoch 1/25\n",
      "8/8 - 2s - loss: 0.7106 - accuracy: 0.4375 - val_loss: 0.6535 - val_accuracy: 0.7500 - 2s/epoch - 236ms/step\n",
      "Epoch 2/25\n",
      "8/8 - 0s - loss: 0.6573 - accuracy: 0.7500 - val_loss: 0.6568 - val_accuracy: 0.6250 - 262ms/epoch - 33ms/step\n",
      "Epoch 3/25\n",
      "8/8 - 0s - loss: 0.6251 - accuracy: 0.8125 - val_loss: 0.6666 - val_accuracy: 0.5000 - 262ms/epoch - 33ms/step\n",
      "Epoch 4/25\n",
      "8/8 - 0s - loss: 0.5819 - accuracy: 0.8750 - val_loss: 0.6658 - val_accuracy: 0.5000 - 262ms/epoch - 33ms/step\n",
      "Epoch 5/25\n",
      "8/8 - 0s - loss: 0.5356 - accuracy: 0.8438 - val_loss: 0.6666 - val_accuracy: 0.5000 - 259ms/epoch - 32ms/step\n",
      "Epoch 6/25\n",
      "8/8 - 0s - loss: 0.4789 - accuracy: 0.9062 - val_loss: 0.6144 - val_accuracy: 0.6250 - 259ms/epoch - 32ms/step\n",
      "Epoch 7/25\n",
      "8/8 - 0s - loss: 0.4121 - accuracy: 0.9062 - val_loss: 0.6161 - val_accuracy: 0.6250 - 257ms/epoch - 32ms/step\n",
      "Epoch 8/25\n",
      "8/8 - 0s - loss: 0.3310 - accuracy: 0.9375 - val_loss: 0.5285 - val_accuracy: 0.7500 - 263ms/epoch - 33ms/step\n",
      "Epoch 9/25\n",
      "8/8 - 0s - loss: 0.2751 - accuracy: 0.9375 - val_loss: 0.5479 - val_accuracy: 0.7500 - 259ms/epoch - 32ms/step\n",
      "Epoch 10/25\n",
      "8/8 - 0s - loss: 0.1940 - accuracy: 0.9688 - val_loss: 0.4313 - val_accuracy: 0.7500 - 256ms/epoch - 32ms/step\n",
      "Epoch 11/25\n",
      "8/8 - 0s - loss: 0.1761 - accuracy: 0.9688 - val_loss: 0.4893 - val_accuracy: 0.7500 - 256ms/epoch - 32ms/step\n",
      "Epoch 12/25\n",
      "8/8 - 0s - loss: 0.1075 - accuracy: 1.0000 - val_loss: 0.4295 - val_accuracy: 0.7500 - 264ms/epoch - 33ms/step\n",
      "Epoch 13/25\n",
      "8/8 - 0s - loss: 0.0962 - accuracy: 1.0000 - val_loss: 0.4074 - val_accuracy: 0.7500 - 255ms/epoch - 32ms/step\n",
      "Epoch 14/25\n",
      "8/8 - 0s - loss: 0.0638 - accuracy: 1.0000 - val_loss: 0.3952 - val_accuracy: 0.7500 - 260ms/epoch - 32ms/step\n",
      "Epoch 15/25\n",
      "8/8 - 0s - loss: 0.0567 - accuracy: 1.0000 - val_loss: 0.4808 - val_accuracy: 0.7500 - 264ms/epoch - 33ms/step\n",
      "Epoch 16/25\n",
      "8/8 - 0s - loss: 0.0433 - accuracy: 1.0000 - val_loss: 0.3929 - val_accuracy: 0.7500 - 265ms/epoch - 33ms/step\n",
      "Epoch 17/25\n",
      "8/8 - 0s - loss: 0.0381 - accuracy: 1.0000 - val_loss: 0.3895 - val_accuracy: 0.7500 - 286ms/epoch - 36ms/step\n",
      "Epoch 18/25\n",
      "8/8 - 0s - loss: 0.0347 - accuracy: 1.0000 - val_loss: 0.3974 - val_accuracy: 0.7500 - 265ms/epoch - 33ms/step\n",
      "Epoch 19/25\n",
      "8/8 - 0s - loss: 0.0295 - accuracy: 1.0000 - val_loss: 0.3521 - val_accuracy: 0.7500 - 260ms/epoch - 32ms/step\n",
      "Epoch 20/25\n",
      "8/8 - 0s - loss: 0.0250 - accuracy: 1.0000 - val_loss: 0.3235 - val_accuracy: 0.7500 - 257ms/epoch - 32ms/step\n",
      "Epoch 21/25\n",
      "8/8 - 0s - loss: 0.0258 - accuracy: 1.0000 - val_loss: 0.3300 - val_accuracy: 0.7500 - 259ms/epoch - 32ms/step\n",
      "Epoch 22/25\n",
      "8/8 - 0s - loss: 0.0212 - accuracy: 1.0000 - val_loss: 0.3619 - val_accuracy: 0.7500 - 259ms/epoch - 32ms/step\n",
      "Epoch 23/25\n",
      "8/8 - 0s - loss: 0.0196 - accuracy: 1.0000 - val_loss: 0.3710 - val_accuracy: 0.7500 - 253ms/epoch - 32ms/step\n",
      "Epoch 24/25\n",
      "8/8 - 0s - loss: 0.0165 - accuracy: 1.0000 - val_loss: 0.3656 - val_accuracy: 0.7500 - 261ms/epoch - 33ms/step\n",
      "Epoch 25/25\n",
      "8/8 - 0s - loss: 0.0148 - accuracy: 1.0000 - val_loss: 0.3746 - val_accuracy: 0.7500 - 277ms/epoch - 35ms/step\n"
     ]
    },
    {
     "data": {
      "image/png": "[encoded data removed]",
      "text/plain": [
       "<Figure size 800x1200 with 2 Axes>"
      ]
     },
     "metadata": {},
     "output_type": "display_data"
    }
   ],
   "source": [
    "# create an LSTM model \n",
    "import tensorflow as tf\n",
    "import keras \n",
    "from keras.models import Sequential\n",
    "from keras.layers import Dense, Embedding, LSTM, GRU\n",
    "from keras.layers import Embedding\n",
    "from keras.initializers import Constant\n",
    "import matplotlib.pyplot as plt\n",
    "\n",
    "model = Sequential()\n",
    "embedding_layer = Embedding(num_words,\n",
    "                            300,\n",
    "                            embeddings_initializer=Constant(embedding_matrix),\n",
    "                            input_length=100,\n",
    "                            trainable=False)\n",
    "model.add(embedding_layer)\n",
    "model.add(LSTM(units=32,  dropout=0.2, recurrent_dropout=0.2))\n",
    "model.add(Dense(1, activation='sigmoid'))\n",
    "\n",
    "# try using different optimizers and different optimizer configs\n",
    "model.compile(loss='binary_crossentropy', optimizer='adam', metrics=['accuracy'])\n",
    "\n",
    "print('Summary of the built model...')\n",
    "print(model.summary())\n",
    "\n",
    "# fit the model\n",
    "history = model.fit(X_train_pad, y_train, batch_size=4, epochs=25, validation_data=(X_test_pad, y_test), verbose=2)\n",
    "\n",
    "num_epochs = len(history.history['loss'])\n",
    "epochs_range = range(0, num_epochs)\n",
    "train_loss = history.history['loss']\n",
    "val_loss = history.history['val_loss']\n",
    "train_accuracy = history.history['accuracy']\n",
    "validation_accuracy = history.history['val_accuracy']\n",
    "\n",
    "\n",
    "plt.figure(figsize=(8, 12))\n",
    "\n",
    "plt.subplot(2, 1, 1)\n",
    "plt.plot(epochs_range, train_accuracy, \"g\", label='Training Accuracy')\n",
    "plt.plot(epochs_range, validation_accuracy, \"b\", label='Validation Accuracy')\n",
    "plt.legend(loc='lower right')\n",
    "plt.title('Training and Validation Accuracy')\n",
    "plt.xlabel('Epochs')\n",
    "plt.ylabel('Accuracy')\n",
    "\n",
    "plt.subplot(2, 1, 2)\n",
    "plt.plot(epochs_range, train_loss, \"g\", label='Training Loss')\n",
    "plt.plot(epochs_range, val_loss, \"b\", label='Validation Loss')\n",
    "plt.legend(loc='upper right')\n",
    "plt.title('Training and Validation Loss')\n",
    "plt.xlabel('Epochs')\n",
    "plt.ylabel('Loss')\n",
    "plt.show()\n"
   ]
  },
  {
   "cell_type": "code",
   "execution_count": 26,
   "metadata": {
    "colab": {
     "base_uri": "https://localhost:8080/",
     "height": 34
    },
    "executionInfo": {
     "elapsed": 1275,
     "status": "ok",
     "timestamp": 1603065090785,
     "user": {
      "displayName": "Swetha Rajkumar",
      "photoUrl": "https://lh3.googleusercontent.com/a-/AOh14GiHAVRV5X5lLATaTDxxaaYHlcXAxJNYDgOkcuaG=s64",
      "userId": "03328740575829288505"
     },
     "user_tz": 420
    },
    "id": "HKPtycpuEQfY",
    "outputId": "8a720c57-41f4-4cdc-d164-079104d622e8"
   },
   "outputs": [],
   "source": [
    "# save the model\n",
    "import h5py\n",
    "\n",
    "model.save('new_urgency-model.h5')\n"
   ]
  },
  {
   "cell_type": "code",
   "execution_count": 27,
   "metadata": {},
   "outputs": [],
   "source": [
    "# save the tokenizer\n",
    "import pickle\n",
    "\n",
    "with open('new_urgency-tokenizer.pickle', 'wb') as handle:\n",
    "    pickle.dump(tokenizer, handle, protocol=pickle.HIGHEST_PROTOCOL)"
   ]
  },
  {
   "cell_type": "code",
   "execution_count": 28,
   "metadata": {
    "colab": {
     "base_uri": "https://localhost:8080/",
     "height": 493
    },
    "executionInfo": {
     "elapsed": 1608,
     "status": "ok",
     "timestamp": 1603065097210,
     "user": {
      "displayName": "Swetha Rajkumar",
      "photoUrl": "https://lh3.googleusercontent.com/a-/AOh14GiHAVRV5X5lLATaTDxxaaYHlcXAxJNYDgOkcuaG=s64",
      "userId": "03328740575829288505"
     },
     "user_tz": 420
    },
    "id": "BlKTsttHWf3n",
    "outputId": "b04f648e-9dab-4cd6-ac38-20b38b0c8593"
   },
   "outputs": [
    {
     "name": "stdout",
     "output_type": "stream",
     "text": [
      "1/1 [==============================] - 0s 249ms/step - loss: 0.3746 - accuracy: 0.7500\n",
      "Accuracy: 75.000000\n",
      "Sentence being analyzed by the model:  You have to leave the building immediately\n",
      "1/1 [==============================] - 0s 202ms/step\n",
      "Model confidence that this sentence conveys urgency: 69%\n",
      "Sentence being analyzed by the model:  Six people are in dire need of food\n",
      "1/1 [==============================] - 0s 20ms/step\n",
      "Model confidence that this sentence conveys urgency: 99%\n",
      "Sentence being analyzed by the model:  You need to do your homework right now\n",
      "1/1 [==============================] - 0s 20ms/step\n",
      "Model confidence that this sentence conveys urgency: 74%\n",
      "Sentence being analyzed by the model:  You can walk your dog later today\n",
      "1/1 [==============================] - 0s 21ms/step\n",
      "Model confidence that this sentence conveys urgency: 11%\n",
      "Sentence being analyzed by the model:  Your dog urgently needs to go on a walk right now\n",
      "1/1 [==============================] - 0s 21ms/step\n",
      "Model confidence that this sentence conveys urgency: 62%\n",
      "Sentence being analyzed by the model:  He is in need of a surgery\n",
      "1/1 [==============================] - 0s 19ms/step\n",
      "Model confidence that this sentence conveys urgency: 74%\n",
      "Sentence being analyzed by the model:  25 people are reported as missing today\n",
      "1/1 [==============================] - 0s 21ms/step\n",
      "Model confidence that this sentence conveys urgency: 85%\n",
      "Sentence being analyzed by the model:  You can hand in your test when you feel like it\n",
      "1/1 [==============================] - 0s 21ms/step\n",
      "Model confidence that this sentence conveys urgency: 33%\n",
      "Sentence being analyzed by the model:  the building is burning and they need assistance\n",
      "1/1 [==============================] - 0s 21ms/step\n",
      "Model confidence that this sentence conveys urgency: 77%\n",
      "Sentence being analyzed by the model:  a hurricane has destroyed 50 homes\n",
      "1/1 [==============================] - 0s 21ms/step\n",
      "Model confidence that this sentence conveys urgency: 72%\n",
      "Sentence being analyzed by the model:  The principal says that you need to come in for a meeting about your childs behavior\n",
      "1/1 [==============================] - 0s 21ms/step\n",
      "Model confidence that this sentence conveys urgency: 93%\n",
      "Sentence being analyzed by the model:  The stagehand would like a break\n",
      "1/1 [==============================] - 0s 28ms/step\n",
      "Model confidence that this sentence conveys urgency: 25%\n",
      "Sentence being analyzed by the model:  The worker wants to go on a vacation\n",
      "1/1 [==============================] - 0s 22ms/step\n",
      "Model confidence that this sentence conveys urgency: 11%\n"
     ]
    }
   ],
   "source": [
    "# evaluate the model and test on some new data \n",
    "\n",
    "loss, accuracy = model.evaluate(X_test_pad, y_test, batch_size=128)\n",
    "print('Accuracy: %f' % (accuracy*100))\n",
    "\n",
    "def test_model(test):\n",
    "  # removes punctuation in the sentence\n",
    "  test = re.sub(r'[^\\w\\s]', '', test)\n",
    "  # gets all of the words in the sentence \n",
    "  words = word_tokenize(test)\n",
    "  # converts all the words to lowercase\n",
    "  words = [w.lower() for w in words]\n",
    "  # retrieves a set of all of the stopwords in English \n",
    "  stop_words = set(stopwords.words('english'))\n",
    "  # removes the stopwords in the sentence\n",
    "  words = [w for w in words if not w in stop_words]\n",
    "\n",
    "\n",
    "  sequences = tokenizer.texts_to_sequences([words])\n",
    "\n",
    "\n",
    "  review_pad = pad_sequences(sequences, maxlen=100)\n",
    "\n",
    "  print('Sentence being analyzed by the model: ', test)\n",
    "  print('Model confidence that this sentence conveys urgency: {}%'.format(int(model.predict(review_pad)[0][0]*100)))\n",
    "\n",
    "\n",
    "test_samples = [\"You have to leave the building immediately\", \"Six people are in dire need of food\", \"You need to do your homework right now\",\n",
    "\"You can walk your dog later today\",\n",
    "\"Your dog urgently needs to go on a walk right now\", \"He is in need of a surgery\", \n",
    "\"25 people are reported as missing today\",\n",
    "\"You can hand in your test when you feel like it\", \"the building is burning and they need assistance\", \"a hurricane has destroyed 50 homes\", \n",
    "\"The principal says that you need to come in for a meeting about your child's behavior\", \"The stagehand would like a break\", \n",
    "\"The worker wants to go on a vacation\"] \n",
    "\n",
    "for test in test_samples:\n",
    "  test_model(test)\n"
   ]
  },
  {
   "cell_type": "code",
   "execution_count": null,
   "metadata": {},
   "outputs": [],
   "source": []
  }
 ],
 "metadata": {
  "colab": {
   "collapsed_sections": [],
   "name": "Urgency-Model-With-FastText-and-RNN.ipynb",
   "provenance": []
  },
  "kernelspec": {
   "display_name": "Python 3 (ipykernel)",
   "language": "python",
   "name": "python3"
  },
  "language_info": {
   "codemirror_mode": {
    "name": "ipython",
    "version": 3
   },
   "file_extension": ".py",
   "mimetype": "text/x-python",
   "name": "python",
   "nbconvert_exporter": "python",
   "pygments_lexer": "ipython3",
   "version": "3.10.9"
  }
 },
 "nbformat": 4,
 "nbformat_minor": 1
}
